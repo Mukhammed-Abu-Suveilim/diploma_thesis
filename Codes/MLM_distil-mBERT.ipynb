{
 "cells": [
  {
   "cell_type": "markdown",
   "id": "fa57dede",
   "metadata": {
    "papermill": {
     "duration": 0.006649,
     "end_time": "2025-02-12T20:00:56.191540",
     "exception": false,
     "start_time": "2025-02-12T20:00:56.184891",
     "status": "completed"
    },
    "tags": []
   },
   "source": [
    "## Using distil multilingual BERT"
   ]
  },
  {
   "cell_type": "code",
   "execution_count": 2,
   "id": "f675ae95",
   "metadata": {
    "execution": {
     "iopub.execute_input": "2025-02-12T20:00:56.223589Z",
     "iopub.status.busy": "2025-02-12T20:00:56.223384Z",
     "iopub.status.idle": "2025-02-12T20:01:00.903223Z",
     "shell.execute_reply": "2025-02-12T20:01:00.902201Z"
    },
    "papermill": {
     "duration": 4.688029,
     "end_time": "2025-02-12T20:01:00.905245",
     "exception": false,
     "start_time": "2025-02-12T20:00:56.217216",
     "status": "completed"
    },
    "tags": []
   },
   "outputs": [
    {
     "name": "stdout",
     "output_type": "stream",
     "text": [
      "Requirement already satisfied: tensorboard in /usr/local/lib/python3.10/dist-packages (2.17.0)\r\n",
      "Requirement already satisfied: absl-py>=0.4 in /usr/local/lib/python3.10/dist-packages (from tensorboard) (1.4.0)\r\n",
      "Requirement already satisfied: grpcio>=1.48.2 in /usr/local/lib/python3.10/dist-packages (from tensorboard) (1.64.1)\r\n",
      "Requirement already satisfied: markdown>=2.6.8 in /usr/local/lib/python3.10/dist-packages (from tensorboard) (3.7)\r\n",
      "Requirement already satisfied: numpy>=1.12.0 in /usr/local/lib/python3.10/dist-packages (from tensorboard) (1.26.4)\r\n",
      "Requirement already satisfied: protobuf!=4.24.0,<5.0.0,>=3.19.6 in /usr/local/lib/python3.10/dist-packages (from tensorboard) (3.20.3)\r\n",
      "Requirement already satisfied: setuptools>=41.0.0 in /usr/local/lib/python3.10/dist-packages (from tensorboard) (71.0.4)\r\n",
      "Requirement already satisfied: six>1.9 in /usr/local/lib/python3.10/dist-packages (from tensorboard) (1.16.0)\r\n",
      "Requirement already satisfied: tensorboard-data-server<0.8.0,>=0.7.0 in /usr/local/lib/python3.10/dist-packages (from tensorboard) (0.7.2)\r\n",
      "Requirement already satisfied: werkzeug>=1.0.1 in /usr/local/lib/python3.10/dist-packages (from tensorboard) (3.0.4)\r\n",
      "Requirement already satisfied: MarkupSafe>=2.1.1 in /usr/local/lib/python3.10/dist-packages (from werkzeug>=1.0.1->tensorboard) (2.1.5)\r\n"
     ]
    }
   ],
   "source": [
    "!pip install tensorboard"
   ]
  },
  {
   "cell_type": "code",
   "execution_count": 3,
   "id": "2fa77e3c",
   "metadata": {
    "execution": {
     "iopub.execute_input": "2025-02-12T20:01:00.918009Z",
     "iopub.status.busy": "2025-02-12T20:01:00.917729Z",
     "iopub.status.idle": "2025-02-12T20:01:16.508621Z",
     "shell.execute_reply": "2025-02-12T20:01:16.507717Z"
    },
    "papermill": {
     "duration": 15.598802,
     "end_time": "2025-02-12T20:01:16.510186",
     "exception": false,
     "start_time": "2025-02-12T20:01:00.911384",
     "status": "completed"
    },
    "tags": []
   },
   "outputs": [],
   "source": [
    "import torch\n",
    "from transformers import (\n",
    "    DistilBertForMaskedLM,\n",
    "    DistilBertTokenizerFast,\n",
    "    Trainer,\n",
    "    TrainingArguments,\n",
    "    DataCollatorForLanguageModeling,\n",
    "    EarlyStoppingCallback,\n",
    "    pipeline\n",
    ")\n",
    "from datasets import Dataset, load_dataset\n",
    "import pandas as pd\n",
    "import random\n",
    "import numpy as np"
   ]
  },
  {
   "cell_type": "code",
   "execution_count": 4,
   "id": "a9aef097",
   "metadata": {
    "execution": {
     "iopub.execute_input": "2025-02-12T20:01:16.523305Z",
     "iopub.status.busy": "2025-02-12T20:01:16.522802Z",
     "iopub.status.idle": "2025-02-12T20:01:16.561884Z",
     "shell.execute_reply": "2025-02-12T20:01:16.561253Z"
    },
    "papermill": {
     "duration": 0.046791,
     "end_time": "2025-02-12T20:01:16.563204",
     "exception": false,
     "start_time": "2025-02-12T20:01:16.516413",
     "status": "completed"
    },
    "tags": []
   },
   "outputs": [],
   "source": [
    "# ========================\n",
    "# 1. Configuration\n",
    "# ========================\n",
    "SEED = 42\n",
    "torch.manual_seed(SEED)\n",
    "torch.cuda.manual_seed_all(SEED)\n",
    "np.random.seed(SEED)\n",
    "MODEL_NAME = \"distilbert-base-multilingual-cased\"\n",
    "with open('/kaggle/input/finterms/financial_terms.txt') as f:\n",
    "    FINANCIAL_TERMS = f.read().splitlines()\n",
    "\n",
    "random.shuffle(FINANCIAL_TERMS)\n",
    "MAX_SEQ_LENGTH = 256\n",
    "TRAIN_RATIO = 0.85"
   ]
  },
  {
   "cell_type": "code",
   "execution_count": 5,
   "id": "e4c9de9b",
   "metadata": {
    "execution": {
     "iopub.execute_input": "2025-02-12T20:01:16.575666Z",
     "iopub.status.busy": "2025-02-12T20:01:16.575428Z",
     "iopub.status.idle": "2025-02-12T20:01:16.580282Z",
     "shell.execute_reply": "2025-02-12T20:01:16.579498Z"
    },
    "papermill": {
     "duration": 0.012264,
     "end_time": "2025-02-12T20:01:16.581458",
     "exception": false,
     "start_time": "2025-02-12T20:01:16.569194",
     "status": "completed"
    },
    "tags": []
   },
   "outputs": [],
   "source": [
    "# ========================\n",
    "# 2. Helper Functions\n",
    "# ========================\n",
    "def check_and_add_tokens(tokenizer, terms):\n",
    "    \"\"\"Identify terms needing addition and update tokenizer\"\"\"\n",
    "    terms_to_add = []\n",
    "    for term in terms:\n",
    "        tokens = tokenizer.tokenize(term)\n",
    "        if len(tokens) > 1 or not tokenizer.convert_tokens_to_ids(term):\n",
    "            terms_to_add.append(term)\n",
    "    \n",
    "    if terms_to_add:\n",
    "        print(f\"Adding {len(terms_to_add)} financial terms to tokenizer\")\n",
    "        tokenizer.add_tokens(terms_to_add)\n",
    "    \n",
    "    return tokenizer\n",
    "\n",
    "def initialize_new_embeddings(model, tokenizer, new_terms):\n",
    "    \"\"\"Initialize new token embeddings with pre-trained averages\"\"\"\n",
    "    with torch.no_grad():\n",
    "        embeddings = model.get_input_embeddings().weight.data\n",
    "        new_embeddings = embeddings[:-len(new_terms)].mean(dim=0)\n",
    "        embeddings[-len(new_terms):] = new_embeddings\n"
   ]
  },
  {
   "cell_type": "code",
   "execution_count": 6,
   "id": "c5781fa6",
   "metadata": {
    "execution": {
     "iopub.execute_input": "2025-02-12T20:01:16.593512Z",
     "iopub.status.busy": "2025-02-12T20:01:16.593265Z",
     "iopub.status.idle": "2025-02-12T20:01:23.991525Z",
     "shell.execute_reply": "2025-02-12T20:01:23.990198Z"
    },
    "papermill": {
     "duration": 7.405914,
     "end_time": "2025-02-12T20:01:23.993073",
     "exception": false,
     "start_time": "2025-02-12T20:01:16.587159",
     "status": "completed"
    },
    "tags": []
   },
   "outputs": [
    {
     "name": "stdout",
     "output_type": "stream",
     "text": [
      "Gazetta shape: (10937, 7), RBK shape: (16517, 6), Stock News shape: (11606, 5)\n",
      "\n",
      "<class 'pandas.core.frame.DataFrame'>\n",
      "RangeIndex: 10937 entries, 0 to 10936\n",
      "Data columns (total 7 columns):\n",
      " #   Column      Non-Null Count  Dtype \n",
      "---  ------      --------------  ----- \n",
      " 0   Unnamed: 0  10937 non-null  int64 \n",
      " 1   text        10937 non-null  object\n",
      " 2   summary     10937 non-null  object\n",
      " 3   title       10937 non-null  object\n",
      " 4   date        10937 non-null  object\n",
      " 5   url         10937 non-null  object\n",
      " 6   category    10937 non-null  object\n",
      "dtypes: int64(1), object(6)\n",
      "memory usage: 598.2+ KB\n",
      "Gazetta info: \n",
      " None\n",
      "<class 'pandas.core.frame.DataFrame'>\n",
      "RangeIndex: 16517 entries, 0 to 16516\n",
      "Data columns (total 6 columns):\n",
      " #   Column      Non-Null Count  Dtype \n",
      "---  ------      --------------  ----- \n",
      " 0   Unnamed: 0  16517 non-null  int64 \n",
      " 1   url         16517 non-null  object\n",
      " 2   date        16517 non-null  object\n",
      " 3   title       16517 non-null  object\n",
      " 4   category    16517 non-null  object\n",
      " 5   text        16517 non-null  object\n",
      "dtypes: int64(1), object(5)\n",
      "memory usage: 774.4+ KB\n",
      "RBK info: \n",
      " None\n",
      "<class 'pandas.core.frame.DataFrame'>\n",
      "RangeIndex: 11606 entries, 0 to 11605\n",
      "Data columns (total 5 columns):\n",
      " #   Column        Non-Null Count  Dtype  \n",
      "---  ------        --------------  -----  \n",
      " 0   Unnamed: 0.1  11606 non-null  int64  \n",
      " 1   Unnamed: 0    11606 non-null  float64\n",
      " 2   title         11606 non-null  object \n",
      " 3   date          11605 non-null  object \n",
      " 4   stock         11605 non-null  object \n",
      "dtypes: float64(1), int64(1), object(3)\n",
      "memory usage: 453.5+ KB\n",
      "Stock News info: \n",
      " None\n"
     ]
    }
   ],
   "source": [
    "# ========================\n",
    "# 3. Data Preparation\n",
    "# ========================\n",
    "# Load and clean data\n",
    "\n",
    "gazetta_df = pd.read_csv(\"/kaggle/input/gazetta-financial-news-dataset/_--.csv\")\n",
    "rbk_df = pd.read_csv(\"/kaggle/input/rbk-financial-news-dataset/--.csv\")\n",
    "stockNews_df = pd.read_csv(\"/kaggle/input/stock-news-dataset/englishFinancialNews.csv\")\n",
    "print(f\"Gazetta shape: {gazetta_df.shape}, RBK shape: {rbk_df.shape}, Stock News shape: {stockNews_df.shape}\\n\")\n",
    "print(\"Gazetta info: \\n\", gazetta_df.info())\n",
    "print(\"RBK info: \\n\", rbk_df.info())\n",
    "print(\"Stock News info: \\n\", stockNews_df.info())"
   ]
  },
  {
   "cell_type": "code",
   "execution_count": 7,
   "id": "db3df4af",
   "metadata": {
    "execution": {
     "iopub.execute_input": "2025-02-12T20:01:24.006097Z",
     "iopub.status.busy": "2025-02-12T20:01:24.005854Z",
     "iopub.status.idle": "2025-02-12T20:01:24.016100Z",
     "shell.execute_reply": "2025-02-12T20:01:24.015158Z"
    },
    "papermill": {
     "duration": 0.018092,
     "end_time": "2025-02-12T20:01:24.017351",
     "exception": false,
     "start_time": "2025-02-12T20:01:23.999259",
     "status": "completed"
    },
    "tags": []
   },
   "outputs": [
    {
     "name": "stdout",
     "output_type": "stream",
     "text": [
      "<class 'pandas.core.frame.DataFrame'>\n",
      "RangeIndex: 11606 entries, 0 to 11605\n",
      "Data columns (total 5 columns):\n",
      " #   Column        Non-Null Count  Dtype  \n",
      "---  ------        --------------  -----  \n",
      " 0   Unnamed: 0.1  11606 non-null  int64  \n",
      " 1   Unnamed: 0    11606 non-null  float64\n",
      " 2   text          11606 non-null  object \n",
      " 3   date          11605 non-null  object \n",
      " 4   stock         11605 non-null  object \n",
      "dtypes: float64(1), int64(1), object(3)\n",
      "memory usage: 453.5+ KB\n",
      "None\n"
     ]
    }
   ],
   "source": [
    "stockNews_df.rename(columns={\"title\":\"text\"}, inplace=True)\n",
    "print(stockNews_df.info())"
   ]
  },
  {
   "cell_type": "code",
   "execution_count": 8,
   "id": "9c34fcd7",
   "metadata": {
    "execution": {
     "iopub.execute_input": "2025-02-12T20:01:24.030217Z",
     "iopub.status.busy": "2025-02-12T20:01:24.029966Z",
     "iopub.status.idle": "2025-02-12T20:01:24.051428Z",
     "shell.execute_reply": "2025-02-12T20:01:24.050723Z"
    },
    "papermill": {
     "duration": 0.02916,
     "end_time": "2025-02-12T20:01:24.052616",
     "exception": false,
     "start_time": "2025-02-12T20:01:24.023456",
     "status": "completed"
    },
    "tags": []
   },
   "outputs": [
    {
     "name": "stdout",
     "output_type": "stream",
     "text": [
      "(39060, 1)\n",
      "<class 'pandas.core.frame.DataFrame'>\n",
      "RangeIndex: 39060 entries, 0 to 39059\n",
      "Data columns (total 1 columns):\n",
      " #   Column  Non-Null Count  Dtype \n",
      "---  ------  --------------  ----- \n",
      " 0   text    39060 non-null  object\n",
      "dtypes: object(1)\n",
      "memory usage: 305.3+ KB\n",
      "None\n"
     ]
    }
   ],
   "source": [
    "df1_text = gazetta_df[['text']]\n",
    "df2_text = rbk_df[['text']]\n",
    "df3_text = stockNews_df[['text']]\n",
    "\n",
    "# Concatenate the DataFrames along the rows\n",
    "df = pd.concat([df1_text, df2_text, df3_text], ignore_index=True)\n",
    "df = df.sample(frac=1).reset_index(drop=True)\n",
    "print(df.shape)\n",
    "print(df.info())"
   ]
  },
  {
   "cell_type": "code",
   "execution_count": 9,
   "id": "402acd14",
   "metadata": {
    "execution": {
     "iopub.execute_input": "2025-02-12T20:01:24.066718Z",
     "iopub.status.busy": "2025-02-12T20:01:24.066472Z",
     "iopub.status.idle": "2025-02-12T20:01:24.075985Z",
     "shell.execute_reply": "2025-02-12T20:01:24.075170Z"
    },
    "papermill": {
     "duration": 0.017597,
     "end_time": "2025-02-12T20:01:24.077237",
     "exception": false,
     "start_time": "2025-02-12T20:01:24.059640",
     "status": "completed"
    },
    "tags": []
   },
   "outputs": [
    {
     "data": {
      "text/html": [
       "<div>\n",
       "<style scoped>\n",
       "    .dataframe tbody tr th:only-of-type {\n",
       "        vertical-align: middle;\n",
       "    }\n",
       "\n",
       "    .dataframe tbody tr th {\n",
       "        vertical-align: top;\n",
       "    }\n",
       "\n",
       "    .dataframe thead th {\n",
       "        text-align: right;\n",
       "    }\n",
       "</style>\n",
       "<table border=\"1\" class=\"dataframe\">\n",
       "  <thead>\n",
       "    <tr style=\"text-align: right;\">\n",
       "      <th></th>\n",
       "      <th>text</th>\n",
       "    </tr>\n",
       "  </thead>\n",
       "  <tbody>\n",
       "    <tr>\n",
       "      <th>0</th>\n",
       "      <td>В среду была опубликована финансовая отчетност...</td>\n",
       "    </tr>\n",
       "    <tr>\n",
       "      <th>1</th>\n",
       "      <td>Benzinga Pro Morning Price Check For Regional ...</td>\n",
       "    </tr>\n",
       "    <tr>\n",
       "      <th>2</th>\n",
       "      <td>Russia's Novak Says OPEC And Non-OPEC Countrie...</td>\n",
       "    </tr>\n",
       "    <tr>\n",
       "      <th>3</th>\n",
       "      <td>Федеральная резервная система (ФРС) США сохран...</td>\n",
       "    </tr>\n",
       "    <tr>\n",
       "      <th>4</th>\n",
       "      <td>Первый торговый день после пятничных санкций п...</td>\n",
       "    </tr>\n",
       "  </tbody>\n",
       "</table>\n",
       "</div>"
      ],
      "text/plain": [
       "                                                text\n",
       "0  В среду была опубликована финансовая отчетност...\n",
       "1  Benzinga Pro Morning Price Check For Regional ...\n",
       "2  Russia's Novak Says OPEC And Non-OPEC Countrie...\n",
       "3  Федеральная резервная система (ФРС) США сохран...\n",
       "4  Первый торговый день после пятничных санкций п..."
      ]
     },
     "execution_count": 9,
     "metadata": {},
     "output_type": "execute_result"
    }
   ],
   "source": [
    "df.head()"
   ]
  },
  {
   "cell_type": "code",
   "execution_count": 10,
   "id": "f8a45d71",
   "metadata": {
    "execution": {
     "iopub.execute_input": "2025-02-12T20:01:24.090762Z",
     "iopub.status.busy": "2025-02-12T20:01:24.090492Z",
     "iopub.status.idle": "2025-02-12T20:01:26.182803Z",
     "shell.execute_reply": "2025-02-12T20:01:26.181796Z"
    },
    "papermill": {
     "duration": 2.100423,
     "end_time": "2025-02-12T20:01:26.184473",
     "exception": false,
     "start_time": "2025-02-12T20:01:24.084050",
     "status": "completed"
    },
    "tags": []
   },
   "outputs": [],
   "source": [
    "dataset = Dataset.from_pandas(df[[\"text\"]])"
   ]
  },
  {
   "cell_type": "code",
   "execution_count": null,
   "id": "3908ae88",
   "metadata": {
    "execution": {
     "iopub.execute_input": "2025-02-12T20:01:26.199173Z",
     "iopub.status.busy": "2025-02-12T20:01:26.198898Z",
     "iopub.status.idle": "2025-02-12T20:02:06.191300Z",
     "shell.execute_reply": "2025-02-12T20:02:06.190402Z"
    },
    "papermill": {
     "duration": 40.001075,
     "end_time": "2025-02-12T20:02:06.192696",
     "exception": false,
     "start_time": "2025-02-12T20:01:26.191621",
     "status": "completed"
    },
    "tags": []
   },
   "outputs": [
    {
     "data": {
      "application/vnd.jupyter.widget-view+json": {
       "model_id": "fd47f8f4bc8547eb8732cfb4dc54b7bb",
       "version_major": 2,
       "version_minor": 0
      },
      "text/plain": [
       "tokenizer_config.json:   0%|          | 0.00/49.0 [00:00<?, ?B/s]"
      ]
     },
     "metadata": {},
     "output_type": "display_data"
    },
    {
     "data": {
      "application/vnd.jupyter.widget-view+json": {
       "model_id": "75c364d409c044fe9e223a2245eac327",
       "version_major": 2,
       "version_minor": 0
      },
      "text/plain": [
       "vocab.txt:   0%|          | 0.00/996k [00:00<?, ?B/s]"
      ]
     },
     "metadata": {},
     "output_type": "display_data"
    },
    {
     "data": {
      "application/vnd.jupyter.widget-view+json": {
       "model_id": "93e9708c9ab44640948d664bc671b78e",
       "version_major": 2,
       "version_minor": 0
      },
      "text/plain": [
       "tokenizer.json:   0%|          | 0.00/1.96M [00:00<?, ?B/s]"
      ]
     },
     "metadata": {},
     "output_type": "display_data"
    },
    {
     "data": {
      "application/vnd.jupyter.widget-view+json": {
       "model_id": "525a05ea6e9c4a41a484fefbcf363167",
       "version_major": 2,
       "version_minor": 0
      },
      "text/plain": [
       "config.json:   0%|          | 0.00/466 [00:00<?, ?B/s]"
      ]
     },
     "metadata": {},
     "output_type": "display_data"
    },
    {
     "name": "stderr",
     "output_type": "stream",
     "text": [
      "/usr/local/lib/python3.10/dist-packages/transformers/tokenization_utils_base.py:1601: FutureWarning: `clean_up_tokenization_spaces` was not set. It will be set to `True` by default. This behavior will be depracted in transformers v4.45, and will be then set to `False` by default. For more details check this issue: https://github.com/huggingface/transformers/issues/31884\n",
      "  warnings.warn(\n"
     ]
    },
    {
     "data": {
      "application/vnd.jupyter.widget-view+json": {
       "model_id": "b27242b478d14945a74359c573bbfb4b",
       "version_major": 2,
       "version_minor": 0
      },
      "text/plain": [
       "Map:   0%|          | 0/39060 [00:00<?, ? examples/s]"
      ]
     },
     "metadata": {},
     "output_type": "display_data"
    }
   ],
   "source": [
    "# ========================\n",
    "# 4. Tokenization Setup\n",
    "# ========================\n",
    "tokenizer = DistilBertTokenizerFast.from_pretrained(MODEL_NAME)\n",
    "\n",
    "def tokenize_fn(examples):\n",
    "    return tokenizer(\n",
    "        examples[\"text\"],\n",
    "        truncation=True,\n",
    "        max_length=MAX_SEQ_LENGTH,\n",
    "        return_special_tokens_mask=True  # Helps data collator\n",
    "    )\n",
    "\n",
    "tokenized_ds = dataset.map(tokenize_fn, batched=True, remove_columns=[\"text\"])\n",
    "split_ds = tokenized_ds.train_test_split(test_size=1-TRAIN_RATIO, seed=42)"
   ]
  },
  {
   "cell_type": "code",
   "execution_count": null,
   "id": "53a131e7",
   "metadata": {
    "execution": {
     "iopub.execute_input": "2025-02-12T20:02:06.207497Z",
     "iopub.status.busy": "2025-02-12T20:02:06.207223Z",
     "iopub.status.idle": "2025-02-12T20:02:06.211334Z",
     "shell.execute_reply": "2025-02-12T20:02:06.210630Z"
    },
    "papermill": {
     "duration": 0.012515,
     "end_time": "2025-02-12T20:02:06.212519",
     "exception": false,
     "start_time": "2025-02-12T20:02:06.200004",
     "status": "completed"
    },
    "tags": []
   },
   "outputs": [
    {
     "name": "stdout",
     "output_type": "stream",
     "text": [
      "Original: 119547 x 768\n"
     ]
    }
   ],
   "source": [
    "original_vocab_size = tokenizer.vocab_size  # ~120,000\n",
    "\n",
    "# Embedding layer shape before/after:\n",
    "print(f\"Original: {original_vocab_size} x 768\")"
   ]
  },
  {
   "cell_type": "code",
   "execution_count": null,
   "id": "d6cdc5a2",
   "metadata": {
    "execution": {
     "iopub.execute_input": "2025-02-12T20:02:06.227251Z",
     "iopub.status.busy": "2025-02-12T20:02:06.227031Z",
     "iopub.status.idle": "2025-02-12T20:02:10.774546Z",
     "shell.execute_reply": "2025-02-12T20:02:10.770384Z"
    },
    "papermill": {
     "duration": 4.556399,
     "end_time": "2025-02-12T20:02:10.775898",
     "exception": false,
     "start_time": "2025-02-12T20:02:06.219499",
     "status": "completed"
    },
    "tags": []
   },
   "outputs": [
    {
     "data": {
      "application/vnd.jupyter.widget-view+json": {
       "model_id": "2feeeebe9ced48a8b1072cf80aa1656d",
       "version_major": 2,
       "version_minor": 0
      },
      "text/plain": [
       "model.safetensors:   0%|          | 0.00/542M [00:00<?, ?B/s]"
      ]
     },
     "metadata": {},
     "output_type": "display_data"
    },
    {
     "name": "stdout",
     "output_type": "stream",
     "text": [
      "distilbert.embeddings.word_embeddings.weight - Trainable: True\n",
      "distilbert.embeddings.position_embeddings.weight - Trainable: True\n",
      "distilbert.embeddings.LayerNorm.weight - Trainable: True\n",
      "distilbert.embeddings.LayerNorm.bias - Trainable: True\n",
      "distilbert.transformer.layer.0.attention.q_lin.weight - Trainable: False\n",
      "distilbert.transformer.layer.0.attention.q_lin.bias - Trainable: False\n",
      "distilbert.transformer.layer.0.attention.k_lin.weight - Trainable: False\n",
      "distilbert.transformer.layer.0.attention.k_lin.bias - Trainable: False\n",
      "distilbert.transformer.layer.0.attention.v_lin.weight - Trainable: False\n",
      "distilbert.transformer.layer.0.attention.v_lin.bias - Trainable: False\n",
      "distilbert.transformer.layer.0.attention.out_lin.weight - Trainable: False\n",
      "distilbert.transformer.layer.0.attention.out_lin.bias - Trainable: False\n",
      "distilbert.transformer.layer.0.sa_layer_norm.weight - Trainable: False\n",
      "distilbert.transformer.layer.0.sa_layer_norm.bias - Trainable: False\n",
      "distilbert.transformer.layer.0.ffn.lin1.weight - Trainable: False\n",
      "distilbert.transformer.layer.0.ffn.lin1.bias - Trainable: False\n",
      "distilbert.transformer.layer.0.ffn.lin2.weight - Trainable: False\n",
      "distilbert.transformer.layer.0.ffn.lin2.bias - Trainable: False\n",
      "distilbert.transformer.layer.0.output_layer_norm.weight - Trainable: False\n",
      "distilbert.transformer.layer.0.output_layer_norm.bias - Trainable: False\n",
      "distilbert.transformer.layer.1.attention.q_lin.weight - Trainable: True\n",
      "distilbert.transformer.layer.1.attention.q_lin.bias - Trainable: True\n",
      "distilbert.transformer.layer.1.attention.k_lin.weight - Trainable: True\n",
      "distilbert.transformer.layer.1.attention.k_lin.bias - Trainable: True\n",
      "distilbert.transformer.layer.1.attention.v_lin.weight - Trainable: True\n",
      "distilbert.transformer.layer.1.attention.v_lin.bias - Trainable: True\n",
      "distilbert.transformer.layer.1.attention.out_lin.weight - Trainable: True\n",
      "distilbert.transformer.layer.1.attention.out_lin.bias - Trainable: True\n",
      "distilbert.transformer.layer.1.sa_layer_norm.weight - Trainable: True\n",
      "distilbert.transformer.layer.1.sa_layer_norm.bias - Trainable: True\n",
      "distilbert.transformer.layer.1.ffn.lin1.weight - Trainable: True\n",
      "distilbert.transformer.layer.1.ffn.lin1.bias - Trainable: True\n",
      "distilbert.transformer.layer.1.ffn.lin2.weight - Trainable: True\n",
      "distilbert.transformer.layer.1.ffn.lin2.bias - Trainable: True\n",
      "distilbert.transformer.layer.1.output_layer_norm.weight - Trainable: True\n",
      "distilbert.transformer.layer.1.output_layer_norm.bias - Trainable: True\n",
      "distilbert.transformer.layer.2.attention.q_lin.weight - Trainable: True\n",
      "distilbert.transformer.layer.2.attention.q_lin.bias - Trainable: True\n",
      "distilbert.transformer.layer.2.attention.k_lin.weight - Trainable: True\n",
      "distilbert.transformer.layer.2.attention.k_lin.bias - Trainable: True\n",
      "distilbert.transformer.layer.2.attention.v_lin.weight - Trainable: True\n",
      "distilbert.transformer.layer.2.attention.v_lin.bias - Trainable: True\n",
      "distilbert.transformer.layer.2.attention.out_lin.weight - Trainable: True\n",
      "distilbert.transformer.layer.2.attention.out_lin.bias - Trainable: True\n",
      "distilbert.transformer.layer.2.sa_layer_norm.weight - Trainable: True\n",
      "distilbert.transformer.layer.2.sa_layer_norm.bias - Trainable: True\n",
      "distilbert.transformer.layer.2.ffn.lin1.weight - Trainable: True\n",
      "distilbert.transformer.layer.2.ffn.lin1.bias - Trainable: True\n",
      "distilbert.transformer.layer.2.ffn.lin2.weight - Trainable: True\n",
      "distilbert.transformer.layer.2.ffn.lin2.bias - Trainable: True\n",
      "distilbert.transformer.layer.2.output_layer_norm.weight - Trainable: True\n",
      "distilbert.transformer.layer.2.output_layer_norm.bias - Trainable: True\n",
      "distilbert.transformer.layer.3.attention.q_lin.weight - Trainable: True\n",
      "distilbert.transformer.layer.3.attention.q_lin.bias - Trainable: True\n",
      "distilbert.transformer.layer.3.attention.k_lin.weight - Trainable: True\n",
      "distilbert.transformer.layer.3.attention.k_lin.bias - Trainable: True\n",
      "distilbert.transformer.layer.3.attention.v_lin.weight - Trainable: True\n",
      "distilbert.transformer.layer.3.attention.v_lin.bias - Trainable: True\n",
      "distilbert.transformer.layer.3.attention.out_lin.weight - Trainable: True\n",
      "distilbert.transformer.layer.3.attention.out_lin.bias - Trainable: True\n",
      "distilbert.transformer.layer.3.sa_layer_norm.weight - Trainable: True\n",
      "distilbert.transformer.layer.3.sa_layer_norm.bias - Trainable: True\n",
      "distilbert.transformer.layer.3.ffn.lin1.weight - Trainable: True\n",
      "distilbert.transformer.layer.3.ffn.lin1.bias - Trainable: True\n",
      "distilbert.transformer.layer.3.ffn.lin2.weight - Trainable: True\n",
      "distilbert.transformer.layer.3.ffn.lin2.bias - Trainable: True\n",
      "distilbert.transformer.layer.3.output_layer_norm.weight - Trainable: True\n",
      "distilbert.transformer.layer.3.output_layer_norm.bias - Trainable: True\n",
      "distilbert.transformer.layer.4.attention.q_lin.weight - Trainable: True\n",
      "distilbert.transformer.layer.4.attention.q_lin.bias - Trainable: True\n",
      "distilbert.transformer.layer.4.attention.k_lin.weight - Trainable: True\n",
      "distilbert.transformer.layer.4.attention.k_lin.bias - Trainable: True\n",
      "distilbert.transformer.layer.4.attention.v_lin.weight - Trainable: True\n",
      "distilbert.transformer.layer.4.attention.v_lin.bias - Trainable: True\n",
      "distilbert.transformer.layer.4.attention.out_lin.weight - Trainable: True\n",
      "distilbert.transformer.layer.4.attention.out_lin.bias - Trainable: True\n",
      "distilbert.transformer.layer.4.sa_layer_norm.weight - Trainable: True\n",
      "distilbert.transformer.layer.4.sa_layer_norm.bias - Trainable: True\n",
      "distilbert.transformer.layer.4.ffn.lin1.weight - Trainable: True\n",
      "distilbert.transformer.layer.4.ffn.lin1.bias - Trainable: True\n",
      "distilbert.transformer.layer.4.ffn.lin2.weight - Trainable: True\n",
      "distilbert.transformer.layer.4.ffn.lin2.bias - Trainable: True\n",
      "distilbert.transformer.layer.4.output_layer_norm.weight - Trainable: True\n",
      "distilbert.transformer.layer.4.output_layer_norm.bias - Trainable: True\n",
      "distilbert.transformer.layer.5.attention.q_lin.weight - Trainable: True\n",
      "distilbert.transformer.layer.5.attention.q_lin.bias - Trainable: True\n",
      "distilbert.transformer.layer.5.attention.k_lin.weight - Trainable: True\n",
      "distilbert.transformer.layer.5.attention.k_lin.bias - Trainable: True\n",
      "distilbert.transformer.layer.5.attention.v_lin.weight - Trainable: True\n",
      "distilbert.transformer.layer.5.attention.v_lin.bias - Trainable: True\n",
      "distilbert.transformer.layer.5.attention.out_lin.weight - Trainable: True\n",
      "distilbert.transformer.layer.5.attention.out_lin.bias - Trainable: True\n",
      "distilbert.transformer.layer.5.sa_layer_norm.weight - Trainable: True\n",
      "distilbert.transformer.layer.5.sa_layer_norm.bias - Trainable: True\n",
      "distilbert.transformer.layer.5.ffn.lin1.weight - Trainable: True\n",
      "distilbert.transformer.layer.5.ffn.lin1.bias - Trainable: True\n",
      "distilbert.transformer.layer.5.ffn.lin2.weight - Trainable: True\n",
      "distilbert.transformer.layer.5.ffn.lin2.bias - Trainable: True\n",
      "distilbert.transformer.layer.5.output_layer_norm.weight - Trainable: True\n",
      "distilbert.transformer.layer.5.output_layer_norm.bias - Trainable: True\n",
      "vocab_transform.weight - Trainable: True\n",
      "vocab_transform.bias - Trainable: True\n",
      "vocab_layer_norm.weight - Trainable: True\n",
      "vocab_layer_norm.bias - Trainable: True\n",
      "vocab_projector.bias - Trainable: True\n"
     ]
    }
   ],
   "source": [
    "# ========================\n",
    "# 5. Model Initialization\n",
    "# ========================\n",
    "model = DistilBertForMaskedLM.from_pretrained(MODEL_NAME)\n",
    "model.resize_token_embeddings(len(tokenizer))\n",
    "\n",
    "# Smart layer freezing: Unfreeze embeddings + last 3 layers\n",
    "for param in model.parameters():\n",
    "    param.requires_grad = False\n",
    "\n",
    "# Unfreeze embeddings\n",
    "for param in model.distilbert.embeddings.parameters():\n",
    "    param.requires_grad = True\n",
    "e\n",
    "\n",
    "         \n",
    "# Define trainable components\n",
    "trainable_components = [\n",
    "    \"embeddings.word_embeddings.weight\",\n",
    "    \"embeddings.position_embeddings.weight\",\n",
    "    \"embeddings.LayerNorm.weight\",\n",
    "    \"embeddings.LayerNorm.bias\",\n",
    "    \"transformer.layer.1\",\n",
    "    \"transformer.layer.2\",\n",
    "    \"transformer.layer.3\",\n",
    "    \"transformer.layer.4\",\n",
    "    \"transformer.layer.5\",  # Last transformer layer (layer 5)\n",
    "    \"vocab_transform\",       # MLM head components\n",
    "    \"vocab_layer_norm\",\n",
    "    \"vocab_projector.bias\"   # Only unfreeze the bias (weight may be tied)\n",
    "]\n",
    "\n",
    "# Unfreeze parameters matching the components\n",
    "for name, param in model.named_parameters():\n",
    "    if any(component in name for component in trainable_components):\n",
    "        param.requires_grad = True\n",
    "    else:\n",
    "        param.requires_grad = False\n",
    "\n",
    "for name, param in model.named_parameters():\n",
    "    print(f\"{name} - Trainable: {param.requires_grad}\")\n",
    "\n",
    "# # Initialize new embeddings (if terms added)\n",
    "# if len(FINANCIAL_TERMS) > 0:\n",
    "#     initialize_new_embeddings(model, tokenizer, FINANCIAL_TERMS)"
   ]
  },
  {
   "cell_type": "code",
   "execution_count": 14,
   "id": "b9821395",
   "metadata": {
    "execution": {
     "iopub.execute_input": "2025-02-12T20:02:10.791465Z",
     "iopub.status.busy": "2025-02-12T20:02:10.791211Z",
     "iopub.status.idle": "2025-02-12T20:02:11.381258Z",
     "shell.execute_reply": "2025-02-12T20:02:11.380454Z"
    },
    "papermill": {
     "duration": 0.599605,
     "end_time": "2025-02-12T20:02:11.382952",
     "exception": false,
     "start_time": "2025-02-12T20:02:10.783347",
     "status": "completed"
    },
    "tags": []
   },
   "outputs": [
    {
     "name": "stderr",
     "output_type": "stream",
     "text": [
      "/usr/local/lib/python3.10/dist-packages/transformers/training_args.py:1525: FutureWarning: `evaluation_strategy` is deprecated and will be removed in version 4.46 of 🤗 Transformers. Use `eval_strategy` instead\n",
      "  warnings.warn(\n",
      "/usr/local/lib/python3.10/dist-packages/accelerate/accelerator.py:494: FutureWarning: `torch.cuda.amp.GradScaler(args...)` is deprecated. Please use `torch.amp.GradScaler('cuda', args...)` instead.\n",
      "  self.scaler = torch.cuda.amp.GradScaler(**kwargs)\n"
     ]
    }
   ],
   "source": [
    "# ========================\n",
    "# 6. Training Setup\n",
    "# ========================\n",
    "data_collator = DataCollatorForLanguageModeling(\n",
    "    tokenizer=tokenizer,\n",
    "    mlm=True,\n",
    "    mlm_probability=0.15,\n",
    "    pad_to_multiple_of=8  # Optimizes GPU utilization\n",
    ")\n",
    "\n",
    "training_args = TrainingArguments(\n",
    "    output_dir=\"./finbert-mlm\",\n",
    "    logging_dir=\"./logs\",\n",
    "    num_train_epochs=5,\n",
    "    per_device_train_batch_size=16,  # Reduced from 64\n",
    "    per_device_eval_batch_size=16,\n",
    "    evaluation_strategy=\"steps\",\n",
    "    eval_steps=500,\n",
    "    logging_steps=100,\n",
    "    learning_rate=2e-5,\n",
    "    weight_decay=0.001,\n",
    "    warmup_ratio=0.1,  # Better than fixed steps\n",
    "    lr_scheduler_type=\"inverse_sqrt\",\n",
    "    gradient_accumulation_steps=3,\n",
    "    fp16=True,\n",
    "    report_to=\"tensorboard\",\n",
    "    save_total_limit=2,\n",
    "    load_best_model_at_end=True,\n",
    "    metric_for_best_model=\"eval_loss\",\n",
    "    dataloader_num_workers=4,\n",
    "    dataloader_pin_memory=True,\n",
    ")\n",
    "\n",
    "trainer = Trainer(\n",
    "    model=model,\n",
    "    args=training_args,\n",
    "    train_dataset=split_ds[\"train\"],\n",
    "    eval_dataset=split_ds[\"test\"],\n",
    "    data_collator=data_collator,\n",
    "    callbacks=[EarlyStoppingCallback(early_stopping_patience=3)],\n",
    ")"
   ]
  },
  {
   "cell_type": "code",
   "execution_count": null,
   "id": "da88990c",
   "metadata": {
    "execution": {
     "iopub.execute_input": "2025-02-12T20:02:11.398661Z",
     "iopub.status.busy": "2025-02-12T20:02:11.398407Z",
     "iopub.status.idle": "2025-02-12T20:04:19.235128Z",
     "shell.execute_reply": "2025-02-12T20:04:19.233891Z"
    },
    "papermill": {
     "duration": 127.845668,
     "end_time": "2025-02-12T20:04:19.236591",
     "exception": false,
     "start_time": "2025-02-12T20:02:11.390923",
     "status": "completed"
    },
    "tags": []
   },
   "outputs": [
    {
     "name": "stderr",
     "output_type": "stream",
     "text": [
      "/usr/local/lib/python3.10/dist-packages/accelerate/accelerator.py:494: FutureWarning: `torch.cuda.amp.GradScaler(args...)` is deprecated. Please use `torch.amp.GradScaler('cuda', args...)` instead.\n",
      "  self.scaler = torch.cuda.amp.GradScaler(**kwargs)\n",
      "/usr/local/lib/python3.10/dist-packages/torch/nn/parallel/_functions.py:68: UserWarning: Was asked to gather along dimension 0, but all input tensors were scalars; will instead unsqueeze and return a vector.\n",
      "  warnings.warn('Was asked to gather along dimension 0, but all '\n"
     ]
    },
    {
     "data": {
      "text/html": [
       "\n",
       "    <div>\n",
       "      \n",
       "      <progress value='367' max='367' style='width:300px; height:20px; vertical-align: middle;'></progress>\n",
       "      [367/367 02:04]\n",
       "    </div>\n",
       "    "
      ],
      "text/plain": [
       "<IPython.core.display.HTML object>"
      ]
     },
     "metadata": {},
     "output_type": "display_data"
    },
    {
     "name": "stdout",
     "output_type": "stream",
     "text": [
      "Baseline Perplexity (Pre-Fine-Tuning): 11.76\n"
     ]
    }
   ],
   "source": [
    "# ========================\n",
    "# 7. Baseline Model Evaluation\n",
    "# ========================\n",
    "\n",
    "# Initialize fresh model for baseline (don't freeze layers yet)\n",
    "baseline_model = DistilBertForMaskedLM.from_pretrained(MODEL_NAME)\n",
    "\n",
    "# Evaluate baseline\n",
    "trainer_baseline = Trainer(\n",
    "    model=baseline_model,\n",
    "    args=TrainingArguments(output_dir=\"./tmp\", report_to=\"none\"),\n",
    "    data_collator=data_collator,\n",
    ")\n",
    "baseline_results = trainer_baseline.evaluate(eval_dataset=split_ds[\"test\"])\n",
    "baseline_perplexity = torch.exp(torch.tensor(baseline_results[\"eval_loss\"])).item()\n",
    "print(f\"Baseline Perplexity (Pre-Fine-Tuning): {baseline_perplexity:.2f}\")"
   ]
  },
  {
   "cell_type": "code",
   "execution_count": 18,
   "id": "484b5730",
   "metadata": {
    "execution": {
     "iopub.execute_input": "2025-02-12T20:04:19.292878Z",
     "iopub.status.busy": "2025-02-12T20:04:19.292562Z",
     "iopub.status.idle": "2025-02-12T22:19:52.110663Z",
     "shell.execute_reply": "2025-02-12T22:19:52.109778Z"
    },
    "papermill": {
     "duration": 8132.82723,
     "end_time": "2025-02-12T22:19:52.112016",
     "exception": false,
     "start_time": "2025-02-12T20:04:19.284786",
     "status": "completed"
    },
    "tags": []
   },
   "outputs": [
    {
     "name": "stderr",
     "output_type": "stream",
     "text": [
      "/usr/lib/python3.10/multiprocessing/popen_fork.py:66: RuntimeWarning: os.fork() was called. os.fork() is incompatible with multithreaded code, and JAX is multithreaded, so this will likely lead to a deadlock.\n",
      "  self.pid = os.fork()\n"
     ]
    },
    {
     "data": {
      "text/html": [
       "\n",
       "    <div>\n",
       "      \n",
       "      <progress value='1730' max='1730' style='width:300px; height:20px; vertical-align: middle;'></progress>\n",
       "      [1730/1730 2:15:27, Epoch 5/5]\n",
       "    </div>\n",
       "    <table border=\"1\" class=\"dataframe\">\n",
       "  <thead>\n",
       " <tr style=\"text-align: left;\">\n",
       "      <th>Step</th>\n",
       "      <th>Training Loss</th>\n",
       "      <th>Validation Loss</th>\n",
       "    </tr>\n",
       "  </thead>\n",
       "  <tbody>\n",
       "    <tr>\n",
       "      <td>500</td>\n",
       "      <td>1.590600</td>\n",
       "      <td>1.426628</td>\n",
       "    </tr>\n",
       "    <tr>\n",
       "      <td>1000</td>\n",
       "      <td>1.472300</td>\n",
       "      <td>1.331665</td>\n",
       "    </tr>\n",
       "    <tr>\n",
       "      <td>1500</td>\n",
       "      <td>1.403700</td>\n",
       "      <td>1.288407</td>\n",
       "    </tr>\n",
       "  </tbody>\n",
       "</table><p>"
      ],
      "text/plain": [
       "<IPython.core.display.HTML object>"
      ]
     },
     "metadata": {},
     "output_type": "display_data"
    },
    {
     "name": "stderr",
     "output_type": "stream",
     "text": [
      "/usr/local/lib/python3.10/dist-packages/torch/nn/parallel/_functions.py:68: UserWarning: Was asked to gather along dimension 0, but all input tensors were scalars; will instead unsqueeze and return a vector.\n",
      "  warnings.warn('Was asked to gather along dimension 0, but all '\n",
      "/usr/lib/python3.10/multiprocessing/popen_fork.py:66: RuntimeWarning: os.fork() was called. os.fork() is incompatible with multithreaded code, and JAX is multithreaded, so this will likely lead to a deadlock.\n",
      "  self.pid = os.fork()\n",
      "/usr/local/lib/python3.10/dist-packages/torch/nn/parallel/_functions.py:68: UserWarning: Was asked to gather along dimension 0, but all input tensors were scalars; will instead unsqueeze and return a vector.\n",
      "  warnings.warn('Was asked to gather along dimension 0, but all '\n",
      "/usr/lib/python3.10/multiprocessing/popen_fork.py:66: RuntimeWarning: os.fork() was called. os.fork() is incompatible with multithreaded code, and JAX is multithreaded, so this will likely lead to a deadlock.\n",
      "  self.pid = os.fork()\n",
      "/usr/local/lib/python3.10/dist-packages/torch/nn/parallel/_functions.py:68: UserWarning: Was asked to gather along dimension 0, but all input tensors were scalars; will instead unsqueeze and return a vector.\n",
      "  warnings.warn('Was asked to gather along dimension 0, but all '\n",
      "There were missing keys in the checkpoint model loaded: ['vocab_projector.weight'].\n"
     ]
    }
   ],
   "source": [
    "# ========================\n",
    "# 8. Training & Evaluation\n",
    "# ========================\n",
    "train_results = trainer.train()"
   ]
  },
  {
   "cell_type": "markdown",
   "id": "172e6080",
   "metadata": {
    "papermill": {
     "duration": 0.007329,
     "end_time": "2025-02-12T22:19:52.127818",
     "exception": false,
     "start_time": "2025-02-12T22:19:52.120489",
     "status": "completed"
    },
    "tags": []
   },
   "source": [
    "eryyr"
   ]
  },
  {
   "cell_type": "code",
   "execution_count": 19,
   "id": "261594e7",
   "metadata": {
    "execution": {
     "iopub.execute_input": "2025-02-12T22:19:52.143505Z",
     "iopub.status.busy": "2025-02-12T22:19:52.143238Z",
     "iopub.status.idle": "2025-02-12T22:19:57.708597Z",
     "shell.execute_reply": "2025-02-12T22:19:57.707549Z"
    },
    "papermill": {
     "duration": 5.574951,
     "end_time": "2025-02-12T22:19:57.710143",
     "exception": false,
     "start_time": "2025-02-12T22:19:52.135192",
     "status": "completed"
    },
    "tags": []
   },
   "outputs": [
    {
     "data": {
      "application/javascript": "\n        (async () => {\n            const url = new URL(await google.colab.kernel.proxyPort(6006, {'cache': true}));\n            url.searchParams.set('tensorboardColab', 'true');\n            const iframe = document.createElement('iframe');\n            iframe.src = url;\n            iframe.setAttribute('width', '100%');\n            iframe.setAttribute('height', '800');\n            iframe.setAttribute('frameborder', 0);\n            document.body.appendChild(iframe);\n        })();\n    ",
      "text/plain": [
       "<IPython.core.display.Javascript object>"
      ]
     },
     "metadata": {},
     "output_type": "display_data"
    }
   ],
   "source": [
    "%load_ext tensorboard\n",
    "%tensorboard --logdir ./logs --port 6006"
   ]
  },
  {
   "cell_type": "code",
   "execution_count": 20,
   "id": "b60493a4",
   "metadata": {
    "execution": {
     "iopub.execute_input": "2025-02-12T22:19:57.736467Z",
     "iopub.status.busy": "2025-02-12T22:19:57.736190Z",
     "iopub.status.idle": "2025-02-12T22:19:57.741747Z",
     "shell.execute_reply": "2025-02-12T22:19:57.740811Z"
    },
    "papermill": {
     "duration": 0.018713,
     "end_time": "2025-02-12T22:19:57.743122",
     "exception": false,
     "start_time": "2025-02-12T22:19:57.724409",
     "status": "completed"
    },
    "tags": []
   },
   "outputs": [
    {
     "data": {
      "text/plain": [
       "2155.507712"
      ]
     },
     "execution_count": 20,
     "metadata": {},
     "output_type": "execute_result"
    }
   ],
   "source": [
    "torch.cuda.memory_allocated() * (1e-6)"
   ]
  },
  {
   "cell_type": "code",
   "execution_count": 21,
   "id": "9d312692",
   "metadata": {
    "execution": {
     "iopub.execute_input": "2025-02-12T22:19:57.759629Z",
     "iopub.status.busy": "2025-02-12T22:19:57.759417Z",
     "iopub.status.idle": "2025-02-12T22:19:57.898147Z",
     "shell.execute_reply": "2025-02-12T22:19:57.897487Z"
    },
    "papermill": {
     "duration": 0.148272,
     "end_time": "2025-02-12T22:19:57.899391",
     "exception": false,
     "start_time": "2025-02-12T22:19:57.751119",
     "status": "completed"
    },
    "tags": []
   },
   "outputs": [],
   "source": [
    "torch.cuda.empty_cache()"
   ]
  },
  {
   "cell_type": "code",
   "execution_count": 22,
   "id": "f1c99319",
   "metadata": {
    "execution": {
     "iopub.execute_input": "2025-02-12T22:19:57.916187Z",
     "iopub.status.busy": "2025-02-12T22:19:57.915973Z",
     "iopub.status.idle": "2025-02-12T22:19:57.918875Z",
     "shell.execute_reply": "2025-02-12T22:19:57.918257Z"
    },
    "papermill": {
     "duration": 0.012393,
     "end_time": "2025-02-12T22:19:57.920033",
     "exception": false,
     "start_time": "2025-02-12T22:19:57.907640",
     "status": "completed"
    },
    "tags": []
   },
   "outputs": [],
   "source": [
    "import os\n",
    "os.environ[\"PYTORCH_CUDA_ALLOC_CONF\"] = \"expandable_segments:True\""
   ]
  },
  {
   "cell_type": "code",
   "execution_count": 23,
   "id": "ca75fe77",
   "metadata": {
    "execution": {
     "iopub.execute_input": "2025-02-12T22:19:57.936583Z",
     "iopub.status.busy": "2025-02-12T22:19:57.936364Z",
     "iopub.status.idle": "2025-02-12T22:21:51.579659Z",
     "shell.execute_reply": "2025-02-12T22:21:51.578530Z"
    },
    "papermill": {
     "duration": 113.653035,
     "end_time": "2025-02-12T22:21:51.581312",
     "exception": false,
     "start_time": "2025-02-12T22:19:57.928277",
     "status": "completed"
    },
    "tags": []
   },
   "outputs": [
    {
     "name": "stderr",
     "output_type": "stream",
     "text": [
      "/usr/lib/python3.10/multiprocessing/popen_fork.py:66: RuntimeWarning: os.fork() was called. os.fork() is incompatible with multithreaded code, and JAX is multithreaded, so this will likely lead to a deadlock.\n",
      "  self.pid = os.fork()\n",
      "/usr/local/lib/python3.10/dist-packages/torch/nn/parallel/_functions.py:68: UserWarning: Was asked to gather along dimension 0, but all input tensors were scalars; will instead unsqueeze and return a vector.\n",
      "  warnings.warn('Was asked to gather along dimension 0, but all '\n"
     ]
    },
    {
     "data": {
      "text/html": [
       "\n",
       "    <div>\n",
       "      \n",
       "      <progress value='184' max='184' style='width:300px; height:20px; vertical-align: middle;'></progress>\n",
       "      [184/184 01:52]\n",
       "    </div>\n",
       "    "
      ],
      "text/plain": [
       "<IPython.core.display.HTML object>"
      ]
     },
     "metadata": {},
     "output_type": "display_data"
    },
    {
     "name": "stdout",
     "output_type": "stream",
     "text": [
      "Final Perplexity: 3.61\n"
     ]
    }
   ],
   "source": [
    "# Calculate final perplexity\n",
    "eval_results = trainer.evaluate()\n",
    "perplexity = torch.exp(torch.tensor(eval_results[\"eval_loss\"])).item()\n",
    "print(f\"Final Perplexity: {perplexity:.2f}\")"
   ]
  },
  {
   "cell_type": "code",
   "execution_count": 24,
   "id": "ec47af04",
   "metadata": {
    "execution": {
     "iopub.execute_input": "2025-02-12T22:21:51.599153Z",
     "iopub.status.busy": "2025-02-12T22:21:51.598913Z",
     "iopub.status.idle": "2025-02-12T22:21:51.603689Z",
     "shell.execute_reply": "2025-02-12T22:21:51.602876Z"
    },
    "papermill": {
     "duration": 0.015065,
     "end_time": "2025-02-12T22:21:51.605139",
     "exception": false,
     "start_time": "2025-02-12T22:21:51.590074",
     "status": "completed"
    },
    "tags": []
   },
   "outputs": [
    {
     "data": {
      "text/plain": [
       "{'train_runtime': 8132.4972,\n",
       " 'train_samples_per_second': 20.412,\n",
       " 'train_steps_per_second': 0.213,\n",
       " 'total_flos': 1.1025275194368e+16,\n",
       " 'train_loss': 1.5487266937432262,\n",
       " 'epoch': 5.0}"
      ]
     },
     "execution_count": 24,
     "metadata": {},
     "output_type": "execute_result"
    }
   ],
   "source": [
    "train_results.metrics"
   ]
  },
  {
   "cell_type": "code",
   "execution_count": 25,
   "id": "da2f44e0",
   "metadata": {
    "execution": {
     "iopub.execute_input": "2025-02-12T22:21:51.622823Z",
     "iopub.status.busy": "2025-02-12T22:21:51.622564Z",
     "iopub.status.idle": "2025-02-12T22:21:51.626836Z",
     "shell.execute_reply": "2025-02-12T22:21:51.626153Z"
    },
    "papermill": {
     "duration": 0.014395,
     "end_time": "2025-02-12T22:21:51.628093",
     "exception": false,
     "start_time": "2025-02-12T22:21:51.613698",
     "status": "completed"
    },
    "tags": []
   },
   "outputs": [
    {
     "data": {
      "text/plain": [
       "1.5487266937432262"
      ]
     },
     "execution_count": 25,
     "metadata": {},
     "output_type": "execute_result"
    }
   ],
   "source": [
    "train_results.metrics[\"train_loss\"]"
   ]
  },
  {
   "cell_type": "code",
   "execution_count": 26,
   "id": "71f6ad58",
   "metadata": {
    "execution": {
     "iopub.execute_input": "2025-02-12T22:21:51.645002Z",
     "iopub.status.busy": "2025-02-12T22:21:51.644784Z",
     "iopub.status.idle": "2025-02-12T22:21:51.649107Z",
     "shell.execute_reply": "2025-02-12T22:21:51.648472Z"
    },
    "papermill": {
     "duration": 0.014169,
     "end_time": "2025-02-12T22:21:51.650369",
     "exception": false,
     "start_time": "2025-02-12T22:21:51.636200",
     "status": "completed"
    },
    "tags": []
   },
   "outputs": [
    {
     "data": {
      "text/plain": [
       "[{'loss': 2.1926,\n",
       "  'grad_norm': 560030.9375,\n",
       "  'learning_rate': 1.15606936416185e-05,\n",
       "  'epoch': 0.28901734104046245,\n",
       "  'step': 100},\n",
       " {'loss': 1.8335,\n",
       "  'grad_norm': 592687.75,\n",
       "  'learning_rate': 1.8601075237738274e-05,\n",
       "  'epoch': 0.5780346820809249,\n",
       "  'step': 200}]"
      ]
     },
     "execution_count": 26,
     "metadata": {},
     "output_type": "execute_result"
    }
   ],
   "source": [
    "trainer.state.log_history[:2]"
   ]
  },
  {
   "cell_type": "code",
   "execution_count": 27,
   "id": "e31c1917",
   "metadata": {
    "execution": {
     "iopub.execute_input": "2025-02-12T22:21:51.668015Z",
     "iopub.status.busy": "2025-02-12T22:21:51.667797Z",
     "iopub.status.idle": "2025-02-12T22:21:51.897204Z",
     "shell.execute_reply": "2025-02-12T22:21:51.896463Z"
    },
    "papermill": {
     "duration": 0.239973,
     "end_time": "2025-02-12T22:21:51.898743",
     "exception": false,
     "start_time": "2025-02-12T22:21:51.658770",
     "status": "completed"
    },
    "tags": []
   },
   "outputs": [],
   "source": [
    "import matplotlib.pyplot as plt\n",
    "# ========================\n",
    "# 9. Monitoring (Optional)\n",
    "# ========================\n",
    "# Plot training loss\n",
    "if trainer.state.log_history:\n",
    "    train_loss = [log[\"loss\"] for log in trainer.state.log_history if \"loss\" in log]\n",
    "    plt.plot(train_loss)\n",
    "    plt.title(\"Training Loss Curve\")\n",
    "    plt.xlabel(\"Steps\")\n",
    "    plt.ylabel(\"Loss\")\n",
    "    # Save the plot to a file\n",
    "    plt.savefig(\"training_loss_curve.png\")  # You can change the filename and format as needed\n",
    "    plt.close()  # Close the plot to free up memory\n",
    "else:\n",
    "    print(\"No training loss data to plot!\")"
   ]
  },
  {
   "cell_type": "code",
   "execution_count": 28,
   "id": "2f2473ad",
   "metadata": {
    "execution": {
     "iopub.execute_input": "2025-02-12T22:21:51.916653Z",
     "iopub.status.busy": "2025-02-12T22:21:51.916419Z",
     "iopub.status.idle": "2025-02-12T22:21:52.110461Z",
     "shell.execute_reply": "2025-02-12T22:21:52.109706Z"
    },
    "papermill": {
     "duration": 0.204677,
     "end_time": "2025-02-12T22:21:52.112072",
     "exception": false,
     "start_time": "2025-02-12T22:21:51.907395",
     "status": "completed"
    },
    "tags": []
   },
   "outputs": [],
   "source": [
    "if trainer.state.log_history:\n",
    "    train_loss = [log[\"eval_loss\"] for log in trainer.state.log_history if \"eval_loss\" in log]\n",
    "    plt.plot(train_loss)\n",
    "    plt.title(\"Evalutation Loss Curve\")\n",
    "    plt.xlabel(\"Steps\")\n",
    "    plt.ylabel(\"Loss\")\n",
    "    plt.savefig(\"evalutation_loss_curve.png\")  # You can change the filename and format as needed\n",
    "    plt.close()  # Close the plot to free up memory\n",
    "else:\n",
    "    print(\"No training loss data to plot!\")"
   ]
  },
  {
   "cell_type": "code",
   "execution_count": 29,
   "id": "68de0d5d",
   "metadata": {
    "execution": {
     "iopub.execute_input": "2025-02-12T22:21:52.130018Z",
     "iopub.status.busy": "2025-02-12T22:21:52.129780Z",
     "iopub.status.idle": "2025-02-12T22:21:52.310662Z",
     "shell.execute_reply": "2025-02-12T22:21:52.309781Z"
    },
    "papermill": {
     "duration": 0.191052,
     "end_time": "2025-02-12T22:21:52.312101",
     "exception": false,
     "start_time": "2025-02-12T22:21:52.121049",
     "status": "completed"
    },
    "tags": []
   },
   "outputs": [],
   "source": [
    "if trainer.state.log_history:\n",
    "    train_loss = [log[\"grad_norm\"] for log in trainer.state.log_history if \"grad_norm\" in log]\n",
    "    plt.plot(train_loss)\n",
    "    plt.title(\"Gradient\")\n",
    "    plt.xlabel(\"Steps\")\n",
    "    plt.ylabel(\"Gradient\")\n",
    "    plt.savefig(\"gradient_per_step_curve.png\")  # You can change the filename and format as needed\n",
    "    plt.close()  # Close the plot to free up memory\n",
    "else:\n",
    "    print(\"No training loss data to plot!\")"
   ]
  },
  {
   "cell_type": "code",
   "execution_count": 30,
   "id": "c4e1d66e",
   "metadata": {
    "execution": {
     "iopub.execute_input": "2025-02-12T22:21:52.329515Z",
     "iopub.status.busy": "2025-02-12T22:21:52.329267Z",
     "iopub.status.idle": "2025-02-12T22:21:52.482103Z",
     "shell.execute_reply": "2025-02-12T22:21:52.481103Z"
    },
    "papermill": {
     "duration": 0.162901,
     "end_time": "2025-02-12T22:21:52.483498",
     "exception": false,
     "start_time": "2025-02-12T22:21:52.320597",
     "status": "completed"
    },
    "tags": []
   },
   "outputs": [
    {
     "name": "stdout",
     "output_type": "stream",
     "text": [
      "[{'score': 0.04537447541952133, 'token': 10197, 'token_str': '20', 'sequence': 'Revenue grew by 20 % this quarter.'}, {'score': 0.04058089479804039, 'token': 10150, 'token_str': '10', 'sequence': 'Revenue grew by 10 % this quarter.'}, {'score': 0.030460715293884277, 'token': 122, 'token_str': '1', 'sequence': 'Revenue grew by 1 % this quarter.'}, {'score': 0.02899516373872757, 'token': 126, 'token_str': '5', 'sequence': 'Revenue grew by 5 % this quarter.'}, {'score': 0.02861366793513298, 'token': 10244, 'token_str': '30', 'sequence': 'Revenue grew by 30 % this quarter.'}] \n",
      "\n",
      "[{'score': 0.03788019344210625, 'token': 10832, 'token_str': '80', 'sequence': 'Revenue grew by 80 % this quarter.'}, {'score': 0.03353461995720863, 'token': 11417, 'token_str': '75', 'sequence': 'Revenue grew by 75 % this quarter.'}, {'score': 0.03207072243094444, 'token': 10709, 'token_str': '60', 'sequence': 'Revenue grew by 60 % this quarter.'}, {'score': 0.03135935589671135, 'token': 11978, 'token_str': '95', 'sequence': 'Revenue grew by 95 % this quarter.'}, {'score': 0.02941235341131687, 'token': 10462, 'token_str': '50', 'sequence': 'Revenue grew by 50 % this quarter.'}] \n",
      "\n",
      "[{'score': 0.15500782430171967, 'token': 23137, 'token_str': 'начал', 'sequence': '\" Юнипро \" начал выработку электроэнергии в 1 полугодии на 17, 1 %'}, {'score': 0.1484522968530655, 'token': 21351, 'token_str': 'начала', 'sequence': '\" Юнипро \" начала выработку электроэнергии в 1 полугодии на 17, 1 %'}, {'score': 0.09339377284049988, 'token': 10234, 'token_str': 'за', 'sequence': '\" Юнипро \" за выработку электроэнергии в 1 полугодии на 17, 1 %'}, {'score': 0.0643339678645134, 'token': 80927, 'token_str': 'назвал', 'sequence': '\" Юнипро \" назвал выработку электроэнергии в 1 полугодии на 17, 1 %'}, {'score': 0.06157035753130913, 'token': 118, 'token_str': '-', 'sequence': '\" Юнипро \" - выработку электроэнергии в 1 полугодии на 17, 1 %'}] \n",
      "\n",
      "[{'score': 0.0444953478872776, 'token': 21351, 'token_str': 'начала', 'sequence': '\" Юнипро \" начала выработку электроэнергии в 1 полугодии на 17, 1 %'}, {'score': 0.041218653321266174, 'token': 30860, 'token_str': 'получила', 'sequence': '\" Юнипро \" получила выработку электроэнергии в 1 полугодии на 17, 1 %'}, {'score': 0.041167739778757095, 'token': 17127, 'token_str': 'составляет', 'sequence': '\" Юнипро \" составляет выработку электроэнергии в 1 полугодии на 17, 1 %'}, {'score': 0.03936488553881645, 'token': 118, 'token_str': '-', 'sequence': '\" Юнипро \" - выработку электроэнергии в 1 полугодии на 17, 1 %'}, {'score': 0.03519890084862709, 'token': 23137, 'token_str': 'начал', 'sequence': '\" Юнипро \" начал выработку электроэнергии в 1 полугодии на 17, 1 %'}] \n",
      "\n",
      "[{'score': 0.04962866008281708, 'token': 39115, 'token_str': 'Issue', 'sequence': 'Halliburton to Issue Several Contracts in Russia by Mid - May'}, {'score': 0.04573602229356766, 'token': 38564, 'token_str': 'Hold', 'sequence': 'Halliburton to Hold Several Contracts in Russia by Mid - May'}, {'score': 0.039597880095243454, 'token': 13924, 'token_str': 'See', 'sequence': 'Halliburton to See Several Contracts in Russia by Mid - May'}, {'score': 0.035517796874046326, 'token': 95501, 'token_str': 'Launch', 'sequence': 'Halliburton to Launch Several Contracts in Russia by Mid - May'}, {'score': 0.03269261121749878, 'token': 57961, 'token_str': 'Move', 'sequence': 'Halliburton to Move Several Contracts in Russia by Mid - May'}] \n",
      "\n",
      "[{'score': 0.07694276422262192, 'token': 14962, 'token_str': 'How', 'sequence': 'Halliburton to How Several Contracts in Russia by Mid - May'}, {'score': 0.039375707507133484, 'token': 33623, 'token_str': 'establish', 'sequence': 'Halliburton to establish Several Contracts in Russia by Mid - May'}, {'score': 0.01756187155842781, 'token': 34307, 'token_str': 'operate', 'sequence': 'Halliburton to operate Several Contracts in Russia by Mid - May'}, {'score': 0.016467466950416565, 'token': 13924, 'token_str': 'See', 'sequence': 'Halliburton to See Several Contracts in Russia by Mid - May'}, {'score': 0.011944902129471302, 'token': 26756, 'token_str': 'reçoit', 'sequence': 'Halliburton to reçoit Several Contracts in Russia by Mid - May'}] \n",
      "\n"
     ]
    }
   ],
   "source": [
    "fill_mask = pipeline(\"fill-mask\", model=model, tokenizer=tokenizer, device=0)\n",
    "fill_mask_base = pipeline(\"fill-mask\", model=baseline_model, tokenizer=tokenizer, device=0)\n",
    "print(fill_mask(\"Revenue grew by [MASK]% this quarter.\"), '\\n')\n",
    "print(fill_mask_base(\"Revenue grew by [MASK]% this quarter.\"), '\\n')\n",
    "print(fill_mask(\"\\\"Юнипро\\\" [MASK] выработку электроэнергии в 1 полугодии на 17,1%\"), '\\n')\n",
    "print(fill_mask_base(\"\\\"Юнипро\\\" [MASK] выработку электроэнергии в 1 полугодии на 17,1%\"), '\\n')\n",
    "print(fill_mask(\"Halliburton to [MASK] Several Contracts in Russia by Mid-May\"), '\\n')\n",
    "print(fill_mask_base(\"Halliburton to [MASK] Several Contracts in Russia by Mid-May\"), '\\n')"
   ]
  },
  {
   "cell_type": "code",
   "execution_count": 31,
   "id": "b60a9c32",
   "metadata": {
    "execution": {
     "iopub.execute_input": "2025-02-12T22:21:52.501301Z",
     "iopub.status.busy": "2025-02-12T22:21:52.501062Z",
     "iopub.status.idle": "2025-02-12T22:21:52.505847Z",
     "shell.execute_reply": "2025-02-12T22:21:52.504965Z"
    },
    "papermill": {
     "duration": 0.014842,
     "end_time": "2025-02-12T22:21:52.507106",
     "exception": false,
     "start_time": "2025-02-12T22:21:52.492264",
     "status": "completed"
    },
    "tags": []
   },
   "outputs": [
    {
     "name": "stdout",
     "output_type": "stream",
     "text": [
      "['Ю', '##ни', '##про', 'у', '##вели', '##чила', 'вы', '##работку', 'электр', '##о', '##эн', '##ер', '##гии', 'в', '1', 'полу', '##годи', '##и', 'на', '17', ',', '1', '%']\n",
      "['«', 'Г', '##аз', '##про', '##м', '»', 'со', '##об', '##щил', 'о', 'рост', '##е', 'об', '##ъ', '##ема', 'поста', '##вок', 'в', 'Китай', 'на', '60', '%']\n"
     ]
    }
   ],
   "source": [
    "print(tokenizer.tokenize(\"Юнипро увеличила выработку электроэнергии в 1 полугодии на 17,1%\"))\n",
    "print(tokenizer.tokenize(\"«Газпром» сообщил о росте объема поставок в Китай на 60%\"))"
   ]
  },
  {
   "cell_type": "code",
   "execution_count": 32,
   "id": "cae06dd7",
   "metadata": {
    "execution": {
     "iopub.execute_input": "2025-02-12T22:21:52.524487Z",
     "iopub.status.busy": "2025-02-12T22:21:52.524263Z",
     "iopub.status.idle": "2025-02-12T22:21:52.528334Z",
     "shell.execute_reply": "2025-02-12T22:21:52.527478Z"
    },
    "papermill": {
     "duration": 0.014009,
     "end_time": "2025-02-12T22:21:52.529481",
     "exception": false,
     "start_time": "2025-02-12T22:21:52.515472",
     "status": "completed"
    },
    "tags": []
   },
   "outputs": [
    {
     "name": "stdout",
     "output_type": "stream",
     "text": [
      "wow\n"
     ]
    }
   ],
   "source": [
    "print(\"wow\")"
   ]
  },
  {
   "cell_type": "code",
   "execution_count": 33,
   "id": "19196ea1",
   "metadata": {
    "execution": {
     "iopub.execute_input": "2025-02-12T22:21:52.547661Z",
     "iopub.status.busy": "2025-02-12T22:21:52.547424Z",
     "iopub.status.idle": "2025-02-12T22:21:53.963125Z",
     "shell.execute_reply": "2025-02-12T22:21:53.962172Z"
    },
    "papermill": {
     "duration": 1.42658,
     "end_time": "2025-02-12T22:21:53.964672",
     "exception": false,
     "start_time": "2025-02-12T22:21:52.538092",
     "status": "completed"
    },
    "tags": []
   },
   "outputs": [
    {
     "data": {
      "text/plain": [
       "('./finbert-mlm/finetuned_5_embd_layer/tokenizer_config.json',\n",
       " './finbert-mlm/finetuned_5_embd_layer/special_tokens_map.json',\n",
       " './finbert-mlm/finetuned_5_embd_layer/vocab.txt',\n",
       " './finbert-mlm/finetuned_5_embd_layer/added_tokens.json',\n",
       " './finbert-mlm/finetuned_5_embd_layer/tokenizer.json')"
      ]
     },
     "execution_count": 33,
     "metadata": {},
     "output_type": "execute_result"
    }
   ],
   "source": [
    "trainer.save_model(\"./finbert-mlm/finetuned_5_embd_layer\")\n",
    "tokenizer.save_pretrained(\"./finbert-mlm/finetuned_5_embd_layer\")"
   ]
  },
  {
   "cell_type": "code",
   "execution_count": 34,
   "id": "9c8ed1b1",
   "metadata": {
    "execution": {
     "iopub.execute_input": "2025-02-12T22:21:53.983319Z",
     "iopub.status.busy": "2025-02-12T22:21:53.983062Z",
     "iopub.status.idle": "2025-02-12T22:21:54.174671Z",
     "shell.execute_reply": "2025-02-12T22:21:54.173671Z"
    },
    "papermill": {
     "duration": 0.202013,
     "end_time": "2025-02-12T22:21:54.176030",
     "exception": false,
     "start_time": "2025-02-12T22:21:53.974017",
     "status": "completed"
    },
    "tags": []
   },
   "outputs": [
    {
     "name": "stdout",
     "output_type": "stream",
     "text": [
      "evalutation_loss_curve.png   logs\t\t training_loss_curve.png\r\n",
      "finbert-mlm\t\t     __notebook__.ipynb\r\n",
      "gradient_per_step_curve.png  tmp\r\n"
     ]
    },
    {
     "name": "stderr",
     "output_type": "stream",
     "text": [
      "/usr/lib/python3.10/pty.py:89: RuntimeWarning: os.fork() was called. os.fork() is incompatible with multithreaded code, and JAX is multithreaded, so this will likely lead to a deadlock.\n",
      "  pid, fd = os.forkpty()\n"
     ]
    },
    {
     "data": {
      "text/html": [
       "Path (<tt>./finbert-mlm/finetuned_5_embd_layer/added_tokens.json</tt>) doesn't exist. It may still be in the process of being generated, or you may have the incorrect path."
      ],
      "text/plain": [
       "/kaggle/working/finbert-mlm/finetuned_5_embd_layer/added_tokens.json"
      ]
     },
     "metadata": {},
     "output_type": "display_data"
    }
   ],
   "source": [
    "!ls /kaggle/working\n",
    "from IPython.display import FileLink\n",
    "display(FileLink('./finbert-mlm/finetuned_5_embd_layer/added_tokens.json'))\n"
   ]
  },
  {
   "cell_type": "code",
   "execution_count": null,
   "id": "938f88b6",
   "metadata": {
    "papermill": {
     "duration": 0.008627,
     "end_time": "2025-02-12T22:21:54.193754",
     "exception": false,
     "start_time": "2025-02-12T22:21:54.185127",
     "status": "completed"
    },
    "tags": []
   },
   "outputs": [],
   "source": []
  }
 ],
 "metadata": {
  "kaggle": {
   "accelerator": "nvidiaTeslaT4",
   "dataSources": [
    {
     "datasetId": 6441401,
     "sourceId": 10396146,
     "sourceType": "datasetVersion"
    },
    {
     "datasetId": 6587111,
     "sourceId": 10638793,
     "sourceType": "datasetVersion"
    },
    {
     "datasetId": 6594544,
     "sourceId": 10650002,
     "sourceType": "datasetVersion"
    },
    {
     "datasetId": 6594546,
     "sourceId": 10650008,
     "sourceType": "datasetVersion"
    },
    {
     "datasetId": 6594551,
     "sourceId": 10650013,
     "sourceType": "datasetVersion"
    }
   ],
   "dockerImageVersionId": 30822,
   "isGpuEnabled": true,
   "isInternetEnabled": true,
   "language": "python",
   "sourceType": "notebook"
  },
  "kernelspec": {
   "display_name": "Python 3",
   "language": "python",
   "name": "python3"
  },
  "language_info": {
   "codemirror_mode": {
    "name": "ipython",
    "version": 3
   },
   "file_extension": ".py",
   "mimetype": "text/x-python",
   "name": "python",
   "nbconvert_exporter": "python",
   "pygments_lexer": "ipython3",
   "version": "3.10.12"
  },
  "papermill": {
   "default_parameters": {},
   "duration": 8463.284823,
   "end_time": "2025-02-12T22:21:57.285246",
   "environment_variables": {},
   "exception": null,
   "input_path": "__notebook__.ipynb",
   "output_path": "__notebook__.ipynb",
   "parameters": {},
   "start_time": "2025-02-12T20:00:54.000423",
   "version": "2.6.0"
  },
  "widgets": {
   "application/vnd.jupyter.widget-state+json": {
    "state": {
     "010e08aab76a428cb171dd0db1a096e8": {
      "model_module": "@jupyter-widgets/base",
      "model_module_version": "2.0.0",
      "model_name": "LayoutModel",
      "state": {
       "_model_module": "@jupyter-widgets/base",
       "_model_module_version": "2.0.0",
       "_model_name": "LayoutModel",
       "_view_count": null,
       "_view_module": "@jupyter-widgets/base",
       "_view_module_version": "2.0.0",
       "_view_name": "LayoutView",
       "align_content": null,
       "align_items": null,
       "align_self": null,
       "border_bottom": null,
       "border_left": null,
       "border_right": null,
       "border_top": null,
       "bottom": null,
       "display": null,
       "flex": null,
       "flex_flow": null,
       "grid_area": null,
       "grid_auto_columns": null,
       "grid_auto_flow": null,
       "grid_auto_rows": null,
       "grid_column": null,
       "grid_gap": null,
       "grid_row": null,
       "grid_template_areas": null,
       "grid_template_columns": null,
       "grid_template_rows": null,
       "height": null,
       "justify_content": null,
       "justify_items": null,
       "left": null,
       "margin": null,
       "max_height": null,
       "max_width": null,
       "min_height": null,
       "min_width": null,
       "object_fit": null,
       "object_position": null,
       "order": null,
       "overflow": null,
       "padding": null,
       "right": null,
       "top": null,
       "visibility": null,
       "width": null
      }
     },
     "05116139eba2455b94ce17da3a010779": {
      "model_module": "@jupyter-widgets/controls",
      "model_module_version": "2.0.0",
      "model_name": "HTMLModel",
      "state": {
       "_dom_classes": [],
       "_model_module": "@jupyter-widgets/controls",
       "_model_module_version": "2.0.0",
       "_model_name": "HTMLModel",
       "_view_count": null,
       "_view_module": "@jupyter-widgets/controls",
       "_view_module_version": "2.0.0",
       "_view_name": "HTMLView",
       "description": "",
       "description_allow_html": false,
       "layout": "IPY_MODEL_589cb5e175bc4763995161c11763dc03",
       "placeholder": "​",
       "style": "IPY_MODEL_b2c1bb73b48248a8ba82e4facd457191",
       "tabbable": null,
       "tooltip": null,
       "value": "tokenizer_config.json: 100%"
      }
     },
     "0900cce0b80049ca88226614d0e9f0d0": {
      "model_module": "@jupyter-widgets/base",
      "model_module_version": "2.0.0",
      "model_name": "LayoutModel",
      "state": {
       "_model_module": "@jupyter-widgets/base",
       "_model_module_version": "2.0.0",
       "_model_name": "LayoutModel",
       "_view_count": null,
       "_view_module": "@jupyter-widgets/base",
       "_view_module_version": "2.0.0",
       "_view_name": "LayoutView",
       "align_content": null,
       "align_items": null,
       "align_self": null,
       "border_bottom": null,
       "border_left": null,
       "border_right": null,
       "border_top": null,
       "bottom": null,
       "display": null,
       "flex": null,
       "flex_flow": null,
       "grid_area": null,
       "grid_auto_columns": null,
       "grid_auto_flow": null,
       "grid_auto_rows": null,
       "grid_column": null,
       "grid_gap": null,
       "grid_row": null,
       "grid_template_areas": null,
       "grid_template_columns": null,
       "grid_template_rows": null,
       "height": null,
       "justify_content": null,
       "justify_items": null,
       "left": null,
       "margin": null,
       "max_height": null,
       "max_width": null,
       "min_height": null,
       "min_width": null,
       "object_fit": null,
       "object_position": null,
       "order": null,
       "overflow": null,
       "padding": null,
       "right": null,
       "top": null,
       "visibility": null,
       "width": null
      }
     },
     "0afb7981d40f4b81ab43aa49a7f9230c": {
      "model_module": "@jupyter-widgets/controls",
      "model_module_version": "2.0.0",
      "model_name": "HTMLModel",
      "state": {
       "_dom_classes": [],
       "_model_module": "@jupyter-widgets/controls",
       "_model_module_version": "2.0.0",
       "_model_name": "HTMLModel",
       "_view_count": null,
       "_view_module": "@jupyter-widgets/controls",
       "_view_module_version": "2.0.0",
       "_view_name": "HTMLView",
       "description": "",
       "description_allow_html": false,
       "layout": "IPY_MODEL_78d0905149714708aa5c29efda246b71",
       "placeholder": "​",
       "style": "IPY_MODEL_dd12108c151646f9a66f6c5b65024965",
       "tabbable": null,
       "tooltip": null,
       "value": "vocab.txt: 100%"
      }
     },
     "128241653c354611a2f0e3c11c085fcd": {
      "model_module": "@jupyter-widgets/base",
      "model_module_version": "2.0.0",
      "model_name": "LayoutModel",
      "state": {
       "_model_module": "@jupyter-widgets/base",
       "_model_module_version": "2.0.0",
       "_model_name": "LayoutModel",
       "_view_count": null,
       "_view_module": "@jupyter-widgets/base",
       "_view_module_version": "2.0.0",
       "_view_name": "LayoutView",
       "align_content": null,
       "align_items": null,
       "align_self": null,
       "border_bottom": null,
       "border_left": null,
       "border_right": null,
       "border_top": null,
       "bottom": null,
       "display": null,
       "flex": null,
       "flex_flow": null,
       "grid_area": null,
       "grid_auto_columns": null,
       "grid_auto_flow": null,
       "grid_auto_rows": null,
       "grid_column": null,
       "grid_gap": null,
       "grid_row": null,
       "grid_template_areas": null,
       "grid_template_columns": null,
       "grid_template_rows": null,
       "height": null,
       "justify_content": null,
       "justify_items": null,
       "left": null,
       "margin": null,
       "max_height": null,
       "max_width": null,
       "min_height": null,
       "min_width": null,
       "object_fit": null,
       "object_position": null,
       "order": null,
       "overflow": null,
       "padding": null,
       "right": null,
       "top": null,
       "visibility": null,
       "width": null
      }
     },
     "14bde2f5ae98416d927536407e0fc97b": {
      "model_module": "@jupyter-widgets/controls",
      "model_module_version": "2.0.0",
      "model_name": "HTMLModel",
      "state": {
       "_dom_classes": [],
       "_model_module": "@jupyter-widgets/controls",
       "_model_module_version": "2.0.0",
       "_model_name": "HTMLModel",
       "_view_count": null,
       "_view_module": "@jupyter-widgets/controls",
       "_view_module_version": "2.0.0",
       "_view_name": "HTMLView",
       "description": "",
       "description_allow_html": false,
       "layout": "IPY_MODEL_90360866d8d0485193c149c771162e76",
       "placeholder": "​",
       "style": "IPY_MODEL_d08fff355e644cf9a5a63242737c0129",
       "tabbable": null,
       "tooltip": null,
       "value": "tokenizer.json: 100%"
      }
     },
     "1eb14820c9d94a2291806f0961f77c83": {
      "model_module": "@jupyter-widgets/controls",
      "model_module_version": "2.0.0",
      "model_name": "ProgressStyleModel",
      "state": {
       "_model_module": "@jupyter-widgets/controls",
       "_model_module_version": "2.0.0",
       "_model_name": "ProgressStyleModel",
       "_view_count": null,
       "_view_module": "@jupyter-widgets/base",
       "_view_module_version": "2.0.0",
       "_view_name": "StyleView",
       "bar_color": null,
       "description_width": ""
      }
     },
     "25e004a5bb094ba5a0627df957705b08": {
      "model_module": "@jupyter-widgets/controls",
      "model_module_version": "2.0.0",
      "model_name": "HTMLModel",
      "state": {
       "_dom_classes": [],
       "_model_module": "@jupyter-widgets/controls",
       "_model_module_version": "2.0.0",
       "_model_name": "HTMLModel",
       "_view_count": null,
       "_view_module": "@jupyter-widgets/controls",
       "_view_module_version": "2.0.0",
       "_view_name": "HTMLView",
       "description": "",
       "description_allow_html": false,
       "layout": "IPY_MODEL_362890a0a7484d8fbc9801f7f9a2d5d2",
       "placeholder": "​",
       "style": "IPY_MODEL_62a47ad846c64dafa2901742134b03fc",
       "tabbable": null,
       "tooltip": null,
       "value": "model.safetensors: 100%"
      }
     },
     "275494fb53054c42b9071e3b30d75307": {
      "model_module": "@jupyter-widgets/controls",
      "model_module_version": "2.0.0",
      "model_name": "HTMLModel",
      "state": {
       "_dom_classes": [],
       "_model_module": "@jupyter-widgets/controls",
       "_model_module_version": "2.0.0",
       "_model_name": "HTMLModel",
       "_view_count": null,
       "_view_module": "@jupyter-widgets/controls",
       "_view_module_version": "2.0.0",
       "_view_name": "HTMLView",
       "description": "",
       "description_allow_html": false,
       "layout": "IPY_MODEL_433e81694840408e98d14b54331d6841",
       "placeholder": "​",
       "style": "IPY_MODEL_2c327e8976224434abbbb7fbe82c9606",
       "tabbable": null,
       "tooltip": null,
       "value": " 39060/39060 [00:38&lt;00:00, 1031.35 examples/s]"
      }
     },
     "2abf3b34c6c443d4af2edb2608f7e78a": {
      "model_module": "@jupyter-widgets/controls",
      "model_module_version": "2.0.0",
      "model_name": "ProgressStyleModel",
      "state": {
       "_model_module": "@jupyter-widgets/controls",
       "_model_module_version": "2.0.0",
       "_model_name": "ProgressStyleModel",
       "_view_count": null,
       "_view_module": "@jupyter-widgets/base",
       "_view_module_version": "2.0.0",
       "_view_name": "StyleView",
       "bar_color": null,
       "description_width": ""
      }
     },
     "2c327e8976224434abbbb7fbe82c9606": {
      "model_module": "@jupyter-widgets/controls",
      "model_module_version": "2.0.0",
      "model_name": "HTMLStyleModel",
      "state": {
       "_model_module": "@jupyter-widgets/controls",
       "_model_module_version": "2.0.0",
       "_model_name": "HTMLStyleModel",
       "_view_count": null,
       "_view_module": "@jupyter-widgets/base",
       "_view_module_version": "2.0.0",
       "_view_name": "StyleView",
       "background": null,
       "description_width": "",
       "font_size": null,
       "text_color": null
      }
     },
     "2c89597e78ff41629778bb6a6b47b811": {
      "model_module": "@jupyter-widgets/controls",
      "model_module_version": "2.0.0",
      "model_name": "FloatProgressModel",
      "state": {
       "_dom_classes": [],
       "_model_module": "@jupyter-widgets/controls",
       "_model_module_version": "2.0.0",
       "_model_name": "FloatProgressModel",
       "_view_count": null,
       "_view_module": "@jupyter-widgets/controls",
       "_view_module_version": "2.0.0",
       "_view_name": "ProgressView",
       "bar_style": "success",
       "description": "",
       "description_allow_html": false,
       "layout": "IPY_MODEL_f33a9f767d514a61a48de5209f7d8e96",
       "max": 541795680,
       "min": 0,
       "orientation": "horizontal",
       "style": "IPY_MODEL_74da795ff14845e7b524c1f9381a9a20",
       "tabbable": null,
       "tooltip": null,
       "value": 541795680
      }
     },
     "2feeeebe9ced48a8b1072cf80aa1656d": {
      "model_module": "@jupyter-widgets/controls",
      "model_module_version": "2.0.0",
      "model_name": "HBoxModel",
      "state": {
       "_dom_classes": [],
       "_model_module": "@jupyter-widgets/controls",
       "_model_module_version": "2.0.0",
       "_model_name": "HBoxModel",
       "_view_count": null,
       "_view_module": "@jupyter-widgets/controls",
       "_view_module_version": "2.0.0",
       "_view_name": "HBoxView",
       "box_style": "",
       "children": [
        "IPY_MODEL_25e004a5bb094ba5a0627df957705b08",
        "IPY_MODEL_2c89597e78ff41629778bb6a6b47b811",
        "IPY_MODEL_7ca7ce5b5ec04f4db20ed198137718a1"
       ],
       "layout": "IPY_MODEL_f69231c37b35420c8c5439a9ceef05be",
       "tabbable": null,
       "tooltip": null
      }
     },
     "301fb53064d04255bf2d43513876f18a": {
      "model_module": "@jupyter-widgets/base",
      "model_module_version": "2.0.0",
      "model_name": "LayoutModel",
      "state": {
       "_model_module": "@jupyter-widgets/base",
       "_model_module_version": "2.0.0",
       "_model_name": "LayoutModel",
       "_view_count": null,
       "_view_module": "@jupyter-widgets/base",
       "_view_module_version": "2.0.0",
       "_view_name": "LayoutView",
       "align_content": null,
       "align_items": null,
       "align_self": null,
       "border_bottom": null,
       "border_left": null,
       "border_right": null,
       "border_top": null,
       "bottom": null,
       "display": null,
       "flex": null,
       "flex_flow": null,
       "grid_area": null,
       "grid_auto_columns": null,
       "grid_auto_flow": null,
       "grid_auto_rows": null,
       "grid_column": null,
       "grid_gap": null,
       "grid_row": null,
       "grid_template_areas": null,
       "grid_template_columns": null,
       "grid_template_rows": null,
       "height": null,
       "justify_content": null,
       "justify_items": null,
       "left": null,
       "margin": null,
       "max_height": null,
       "max_width": null,
       "min_height": null,
       "min_width": null,
       "object_fit": null,
       "object_position": null,
       "order": null,
       "overflow": null,
       "padding": null,
       "right": null,
       "top": null,
       "visibility": null,
       "width": null
      }
     },
     "362890a0a7484d8fbc9801f7f9a2d5d2": {
      "model_module": "@jupyter-widgets/base",
      "model_module_version": "2.0.0",
      "model_name": "LayoutModel",
      "state": {
       "_model_module": "@jupyter-widgets/base",
       "_model_module_version": "2.0.0",
       "_model_name": "LayoutModel",
       "_view_count": null,
       "_view_module": "@jupyter-widgets/base",
       "_view_module_version": "2.0.0",
       "_view_name": "LayoutView",
       "align_content": null,
       "align_items": null,
       "align_self": null,
       "border_bottom": null,
       "border_left": null,
       "border_right": null,
       "border_top": null,
       "bottom": null,
       "display": null,
       "flex": null,
       "flex_flow": null,
       "grid_area": null,
       "grid_auto_columns": null,
       "grid_auto_flow": null,
       "grid_auto_rows": null,
       "grid_column": null,
       "grid_gap": null,
       "grid_row": null,
       "grid_template_areas": null,
       "grid_template_columns": null,
       "grid_template_rows": null,
       "height": null,
       "justify_content": null,
       "justify_items": null,
       "left": null,
       "margin": null,
       "max_height": null,
       "max_width": null,
       "min_height": null,
       "min_width": null,
       "object_fit": null,
       "object_position": null,
       "order": null,
       "overflow": null,
       "padding": null,
       "right": null,
       "top": null,
       "visibility": null,
       "width": null
      }
     },
     "41d9a97aab8041748c240bef3441040e": {
      "model_module": "@jupyter-widgets/controls",
      "model_module_version": "2.0.0",
      "model_name": "HTMLModel",
      "state": {
       "_dom_classes": [],
       "_model_module": "@jupyter-widgets/controls",
       "_model_module_version": "2.0.0",
       "_model_name": "HTMLModel",
       "_view_count": null,
       "_view_module": "@jupyter-widgets/controls",
       "_view_module_version": "2.0.0",
       "_view_name": "HTMLView",
       "description": "",
       "description_allow_html": false,
       "layout": "IPY_MODEL_bb7ee7869df74cb79ebcdd674226325f",
       "placeholder": "​",
       "style": "IPY_MODEL_d492fd3a0980458aa0afc33fef8c4d3a",
       "tabbable": null,
       "tooltip": null,
       "value": " 1.96M/1.96M [00:00&lt;00:00, 23.0MB/s]"
      }
     },
     "41fb566bb3dc4f95b04acb2c09826cbe": {
      "model_module": "@jupyter-widgets/controls",
      "model_module_version": "2.0.0",
      "model_name": "HTMLStyleModel",
      "state": {
       "_model_module": "@jupyter-widgets/controls",
       "_model_module_version": "2.0.0",
       "_model_name": "HTMLStyleModel",
       "_view_count": null,
       "_view_module": "@jupyter-widgets/base",
       "_view_module_version": "2.0.0",
       "_view_name": "StyleView",
       "background": null,
       "description_width": "",
       "font_size": null,
       "text_color": null
      }
     },
     "433e81694840408e98d14b54331d6841": {
      "model_module": "@jupyter-widgets/base",
      "model_module_version": "2.0.0",
      "model_name": "LayoutModel",
      "state": {
       "_model_module": "@jupyter-widgets/base",
       "_model_module_version": "2.0.0",
       "_model_name": "LayoutModel",
       "_view_count": null,
       "_view_module": "@jupyter-widgets/base",
       "_view_module_version": "2.0.0",
       "_view_name": "LayoutView",
       "align_content": null,
       "align_items": null,
       "align_self": null,
       "border_bottom": null,
       "border_left": null,
       "border_right": null,
       "border_top": null,
       "bottom": null,
       "display": null,
       "flex": null,
       "flex_flow": null,
       "grid_area": null,
       "grid_auto_columns": null,
       "grid_auto_flow": null,
       "grid_auto_rows": null,
       "grid_column": null,
       "grid_gap": null,
       "grid_row": null,
       "grid_template_areas": null,
       "grid_template_columns": null,
       "grid_template_rows": null,
       "height": null,
       "justify_content": null,
       "justify_items": null,
       "left": null,
       "margin": null,
       "max_height": null,
       "max_width": null,
       "min_height": null,
       "min_width": null,
       "object_fit": null,
       "object_position": null,
       "order": null,
       "overflow": null,
       "padding": null,
       "right": null,
       "top": null,
       "visibility": null,
       "width": null
      }
     },
     "46199c738317419f8139b017720e1964": {
      "model_module": "@jupyter-widgets/base",
      "model_module_version": "2.0.0",
      "model_name": "LayoutModel",
      "state": {
       "_model_module": "@jupyter-widgets/base",
       "_model_module_version": "2.0.0",
       "_model_name": "LayoutModel",
       "_view_count": null,
       "_view_module": "@jupyter-widgets/base",
       "_view_module_version": "2.0.0",
       "_view_name": "LayoutView",
       "align_content": null,
       "align_items": null,
       "align_self": null,
       "border_bottom": null,
       "border_left": null,
       "border_right": null,
       "border_top": null,
       "bottom": null,
       "display": null,
       "flex": null,
       "flex_flow": null,
       "grid_area": null,
       "grid_auto_columns": null,
       "grid_auto_flow": null,
       "grid_auto_rows": null,
       "grid_column": null,
       "grid_gap": null,
       "grid_row": null,
       "grid_template_areas": null,
       "grid_template_columns": null,
       "grid_template_rows": null,
       "height": null,
       "justify_content": null,
       "justify_items": null,
       "left": null,
       "margin": null,
       "max_height": null,
       "max_width": null,
       "min_height": null,
       "min_width": null,
       "object_fit": null,
       "object_position": null,
       "order": null,
       "overflow": null,
       "padding": null,
       "right": null,
       "top": null,
       "visibility": null,
       "width": null
      }
     },
     "4960d626e07940488f35c7945285d200": {
      "model_module": "@jupyter-widgets/controls",
      "model_module_version": "2.0.0",
      "model_name": "FloatProgressModel",
      "state": {
       "_dom_classes": [],
       "_model_module": "@jupyter-widgets/controls",
       "_model_module_version": "2.0.0",
       "_model_name": "FloatProgressModel",
       "_view_count": null,
       "_view_module": "@jupyter-widgets/controls",
       "_view_module_version": "2.0.0",
       "_view_name": "ProgressView",
       "bar_style": "success",
       "description": "",
       "description_allow_html": false,
       "layout": "IPY_MODEL_46199c738317419f8139b017720e1964",
       "max": 1961828,
       "min": 0,
       "orientation": "horizontal",
       "style": "IPY_MODEL_1eb14820c9d94a2291806f0961f77c83",
       "tabbable": null,
       "tooltip": null,
       "value": 1961828
      }
     },
     "4a04d0681b174072875e83df426945a6": {
      "model_module": "@jupyter-widgets/base",
      "model_module_version": "2.0.0",
      "model_name": "LayoutModel",
      "state": {
       "_model_module": "@jupyter-widgets/base",
       "_model_module_version": "2.0.0",
       "_model_name": "LayoutModel",
       "_view_count": null,
       "_view_module": "@jupyter-widgets/base",
       "_view_module_version": "2.0.0",
       "_view_name": "LayoutView",
       "align_content": null,
       "align_items": null,
       "align_self": null,
       "border_bottom": null,
       "border_left": null,
       "border_right": null,
       "border_top": null,
       "bottom": null,
       "display": null,
       "flex": null,
       "flex_flow": null,
       "grid_area": null,
       "grid_auto_columns": null,
       "grid_auto_flow": null,
       "grid_auto_rows": null,
       "grid_column": null,
       "grid_gap": null,
       "grid_row": null,
       "grid_template_areas": null,
       "grid_template_columns": null,
       "grid_template_rows": null,
       "height": null,
       "justify_content": null,
       "justify_items": null,
       "left": null,
       "margin": null,
       "max_height": null,
       "max_width": null,
       "min_height": null,
       "min_width": null,
       "object_fit": null,
       "object_position": null,
       "order": null,
       "overflow": null,
       "padding": null,
       "right": null,
       "top": null,
       "visibility": null,
       "width": null
      }
     },
     "4cd63855edbc4c17b4b99573eb13db40": {
      "model_module": "@jupyter-widgets/base",
      "model_module_version": "2.0.0",
      "model_name": "LayoutModel",
      "state": {
       "_model_module": "@jupyter-widgets/base",
       "_model_module_version": "2.0.0",
       "_model_name": "LayoutModel",
       "_view_count": null,
       "_view_module": "@jupyter-widgets/base",
       "_view_module_version": "2.0.0",
       "_view_name": "LayoutView",
       "align_content": null,
       "align_items": null,
       "align_self": null,
       "border_bottom": null,
       "border_left": null,
       "border_right": null,
       "border_top": null,
       "bottom": null,
       "display": null,
       "flex": null,
       "flex_flow": null,
       "grid_area": null,
       "grid_auto_columns": null,
       "grid_auto_flow": null,
       "grid_auto_rows": null,
       "grid_column": null,
       "grid_gap": null,
       "grid_row": null,
       "grid_template_areas": null,
       "grid_template_columns": null,
       "grid_template_rows": null,
       "height": null,
       "justify_content": null,
       "justify_items": null,
       "left": null,
       "margin": null,
       "max_height": null,
       "max_width": null,
       "min_height": null,
       "min_width": null,
       "object_fit": null,
       "object_position": null,
       "order": null,
       "overflow": null,
       "padding": null,
       "right": null,
       "top": null,
       "visibility": null,
       "width": null
      }
     },
     "4d1e3ff78d1e418a9c92a261e4ba5198": {
      "model_module": "@jupyter-widgets/controls",
      "model_module_version": "2.0.0",
      "model_name": "HTMLStyleModel",
      "state": {
       "_model_module": "@jupyter-widgets/controls",
       "_model_module_version": "2.0.0",
       "_model_name": "HTMLStyleModel",
       "_view_count": null,
       "_view_module": "@jupyter-widgets/base",
       "_view_module_version": "2.0.0",
       "_view_name": "StyleView",
       "background": null,
       "description_width": "",
       "font_size": null,
       "text_color": null
      }
     },
     "4f5c2ae7548c4069a1bce769ed152a46": {
      "model_module": "@jupyter-widgets/base",
      "model_module_version": "2.0.0",
      "model_name": "LayoutModel",
      "state": {
       "_model_module": "@jupyter-widgets/base",
       "_model_module_version": "2.0.0",
       "_model_name": "LayoutModel",
       "_view_count": null,
       "_view_module": "@jupyter-widgets/base",
       "_view_module_version": "2.0.0",
       "_view_name": "LayoutView",
       "align_content": null,
       "align_items": null,
       "align_self": null,
       "border_bottom": null,
       "border_left": null,
       "border_right": null,
       "border_top": null,
       "bottom": null,
       "display": null,
       "flex": null,
       "flex_flow": null,
       "grid_area": null,
       "grid_auto_columns": null,
       "grid_auto_flow": null,
       "grid_auto_rows": null,
       "grid_column": null,
       "grid_gap": null,
       "grid_row": null,
       "grid_template_areas": null,
       "grid_template_columns": null,
       "grid_template_rows": null,
       "height": null,
       "justify_content": null,
       "justify_items": null,
       "left": null,
       "margin": null,
       "max_height": null,
       "max_width": null,
       "min_height": null,
       "min_width": null,
       "object_fit": null,
       "object_position": null,
       "order": null,
       "overflow": null,
       "padding": null,
       "right": null,
       "top": null,
       "visibility": null,
       "width": null
      }
     },
     "525a05ea6e9c4a41a484fefbcf363167": {
      "model_module": "@jupyter-widgets/controls",
      "model_module_version": "2.0.0",
      "model_name": "HBoxModel",
      "state": {
       "_dom_classes": [],
       "_model_module": "@jupyter-widgets/controls",
       "_model_module_version": "2.0.0",
       "_model_name": "HBoxModel",
       "_view_count": null,
       "_view_module": "@jupyter-widgets/controls",
       "_view_module_version": "2.0.0",
       "_view_name": "HBoxView",
       "box_style": "",
       "children": [
        "IPY_MODEL_bf6dee4ec2434a07aa78b94fea25a8f5",
        "IPY_MODEL_7b1262fe4ed64eb48b1c63e98576f018",
        "IPY_MODEL_6a82173baec346dbb372559221779189"
       ],
       "layout": "IPY_MODEL_4f5c2ae7548c4069a1bce769ed152a46",
       "tabbable": null,
       "tooltip": null
      }
     },
     "589cb5e175bc4763995161c11763dc03": {
      "model_module": "@jupyter-widgets/base",
      "model_module_version": "2.0.0",
      "model_name": "LayoutModel",
      "state": {
       "_model_module": "@jupyter-widgets/base",
       "_model_module_version": "2.0.0",
       "_model_name": "LayoutModel",
       "_view_count": null,
       "_view_module": "@jupyter-widgets/base",
       "_view_module_version": "2.0.0",
       "_view_name": "LayoutView",
       "align_content": null,
       "align_items": null,
       "align_self": null,
       "border_bottom": null,
       "border_left": null,
       "border_right": null,
       "border_top": null,
       "bottom": null,
       "display": null,
       "flex": null,
       "flex_flow": null,
       "grid_area": null,
       "grid_auto_columns": null,
       "grid_auto_flow": null,
       "grid_auto_rows": null,
       "grid_column": null,
       "grid_gap": null,
       "grid_row": null,
       "grid_template_areas": null,
       "grid_template_columns": null,
       "grid_template_rows": null,
       "height": null,
       "justify_content": null,
       "justify_items": null,
       "left": null,
       "margin": null,
       "max_height": null,
       "max_width": null,
       "min_height": null,
       "min_width": null,
       "object_fit": null,
       "object_position": null,
       "order": null,
       "overflow": null,
       "padding": null,
       "right": null,
       "top": null,
       "visibility": null,
       "width": null
      }
     },
     "62a47ad846c64dafa2901742134b03fc": {
      "model_module": "@jupyter-widgets/controls",
      "model_module_version": "2.0.0",
      "model_name": "HTMLStyleModel",
      "state": {
       "_model_module": "@jupyter-widgets/controls",
       "_model_module_version": "2.0.0",
       "_model_name": "HTMLStyleModel",
       "_view_count": null,
       "_view_module": "@jupyter-widgets/base",
       "_view_module_version": "2.0.0",
       "_view_name": "StyleView",
       "background": null,
       "description_width": "",
       "font_size": null,
       "text_color": null
      }
     },
     "67335ecd876e4836a01984c23cde75b3": {
      "model_module": "@jupyter-widgets/base",
      "model_module_version": "2.0.0",
      "model_name": "LayoutModel",
      "state": {
       "_model_module": "@jupyter-widgets/base",
       "_model_module_version": "2.0.0",
       "_model_name": "LayoutModel",
       "_view_count": null,
       "_view_module": "@jupyter-widgets/base",
       "_view_module_version": "2.0.0",
       "_view_name": "LayoutView",
       "align_content": null,
       "align_items": null,
       "align_self": null,
       "border_bottom": null,
       "border_left": null,
       "border_right": null,
       "border_top": null,
       "bottom": null,
       "display": null,
       "flex": null,
       "flex_flow": null,
       "grid_area": null,
       "grid_auto_columns": null,
       "grid_auto_flow": null,
       "grid_auto_rows": null,
       "grid_column": null,
       "grid_gap": null,
       "grid_row": null,
       "grid_template_areas": null,
       "grid_template_columns": null,
       "grid_template_rows": null,
       "height": null,
       "justify_content": null,
       "justify_items": null,
       "left": null,
       "margin": null,
       "max_height": null,
       "max_width": null,
       "min_height": null,
       "min_width": null,
       "object_fit": null,
       "object_position": null,
       "order": null,
       "overflow": null,
       "padding": null,
       "right": null,
       "top": null,
       "visibility": null,
       "width": null
      }
     },
     "684d622dbdcc4c289190c947c37cb17a": {
      "model_module": "@jupyter-widgets/controls",
      "model_module_version": "2.0.0",
      "model_name": "FloatProgressModel",
      "state": {
       "_dom_classes": [],
       "_model_module": "@jupyter-widgets/controls",
       "_model_module_version": "2.0.0",
       "_model_name": "FloatProgressModel",
       "_view_count": null,
       "_view_module": "@jupyter-widgets/controls",
       "_view_module_version": "2.0.0",
       "_view_name": "ProgressView",
       "bar_style": "success",
       "description": "",
       "description_allow_html": false,
       "layout": "IPY_MODEL_4cd63855edbc4c17b4b99573eb13db40",
       "max": 39060,
       "min": 0,
       "orientation": "horizontal",
       "style": "IPY_MODEL_783b46ac0545431695bd00223617ed09",
       "tabbable": null,
       "tooltip": null,
       "value": 39060
      }
     },
     "68bca88fe35c46578352eb29eacf3a96": {
      "model_module": "@jupyter-widgets/base",
      "model_module_version": "2.0.0",
      "model_name": "LayoutModel",
      "state": {
       "_model_module": "@jupyter-widgets/base",
       "_model_module_version": "2.0.0",
       "_model_name": "LayoutModel",
       "_view_count": null,
       "_view_module": "@jupyter-widgets/base",
       "_view_module_version": "2.0.0",
       "_view_name": "LayoutView",
       "align_content": null,
       "align_items": null,
       "align_self": null,
       "border_bottom": null,
       "border_left": null,
       "border_right": null,
       "border_top": null,
       "bottom": null,
       "display": null,
       "flex": null,
       "flex_flow": null,
       "grid_area": null,
       "grid_auto_columns": null,
       "grid_auto_flow": null,
       "grid_auto_rows": null,
       "grid_column": null,
       "grid_gap": null,
       "grid_row": null,
       "grid_template_areas": null,
       "grid_template_columns": null,
       "grid_template_rows": null,
       "height": null,
       "justify_content": null,
       "justify_items": null,
       "left": null,
       "margin": null,
       "max_height": null,
       "max_width": null,
       "min_height": null,
       "min_width": null,
       "object_fit": null,
       "object_position": null,
       "order": null,
       "overflow": null,
       "padding": null,
       "right": null,
       "top": null,
       "visibility": null,
       "width": null
      }
     },
     "6a82173baec346dbb372559221779189": {
      "model_module": "@jupyter-widgets/controls",
      "model_module_version": "2.0.0",
      "model_name": "HTMLModel",
      "state": {
       "_dom_classes": [],
       "_model_module": "@jupyter-widgets/controls",
       "_model_module_version": "2.0.0",
       "_model_name": "HTMLModel",
       "_view_count": null,
       "_view_module": "@jupyter-widgets/controls",
       "_view_module_version": "2.0.0",
       "_view_name": "HTMLView",
       "description": "",
       "description_allow_html": false,
       "layout": "IPY_MODEL_97a1c8eab2104e329eeb5000ccb3f9f0",
       "placeholder": "​",
       "style": "IPY_MODEL_41fb566bb3dc4f95b04acb2c09826cbe",
       "tabbable": null,
       "tooltip": null,
       "value": " 466/466 [00:00&lt;00:00, 49.7kB/s]"
      }
     },
     "6fb348829f2d47d39872cfa659d05aa9": {
      "model_module": "@jupyter-widgets/base",
      "model_module_version": "2.0.0",
      "model_name": "LayoutModel",
      "state": {
       "_model_module": "@jupyter-widgets/base",
       "_model_module_version": "2.0.0",
       "_model_name": "LayoutModel",
       "_view_count": null,
       "_view_module": "@jupyter-widgets/base",
       "_view_module_version": "2.0.0",
       "_view_name": "LayoutView",
       "align_content": null,
       "align_items": null,
       "align_self": null,
       "border_bottom": null,
       "border_left": null,
       "border_right": null,
       "border_top": null,
       "bottom": null,
       "display": null,
       "flex": null,
       "flex_flow": null,
       "grid_area": null,
       "grid_auto_columns": null,
       "grid_auto_flow": null,
       "grid_auto_rows": null,
       "grid_column": null,
       "grid_gap": null,
       "grid_row": null,
       "grid_template_areas": null,
       "grid_template_columns": null,
       "grid_template_rows": null,
       "height": null,
       "justify_content": null,
       "justify_items": null,
       "left": null,
       "margin": null,
       "max_height": null,
       "max_width": null,
       "min_height": null,
       "min_width": null,
       "object_fit": null,
       "object_position": null,
       "order": null,
       "overflow": null,
       "padding": null,
       "right": null,
       "top": null,
       "visibility": null,
       "width": null
      }
     },
     "7187d92d789c4da19fe12628d4c82e3f": {
      "model_module": "@jupyter-widgets/controls",
      "model_module_version": "2.0.0",
      "model_name": "ProgressStyleModel",
      "state": {
       "_model_module": "@jupyter-widgets/controls",
       "_model_module_version": "2.0.0",
       "_model_name": "ProgressStyleModel",
       "_view_count": null,
       "_view_module": "@jupyter-widgets/base",
       "_view_module_version": "2.0.0",
       "_view_name": "StyleView",
       "bar_color": null,
       "description_width": ""
      }
     },
     "7257b8e323a14445ba06c2b356e2f204": {
      "model_module": "@jupyter-widgets/controls",
      "model_module_version": "2.0.0",
      "model_name": "HTMLModel",
      "state": {
       "_dom_classes": [],
       "_model_module": "@jupyter-widgets/controls",
       "_model_module_version": "2.0.0",
       "_model_name": "HTMLModel",
       "_view_count": null,
       "_view_module": "@jupyter-widgets/controls",
       "_view_module_version": "2.0.0",
       "_view_name": "HTMLView",
       "description": "",
       "description_allow_html": false,
       "layout": "IPY_MODEL_0900cce0b80049ca88226614d0e9f0d0",
       "placeholder": "​",
       "style": "IPY_MODEL_ebae99c448474c00a076c6b9ea7b07a3",
       "tabbable": null,
       "tooltip": null,
       "value": " 996k/996k [00:00&lt;00:00, 10.1MB/s]"
      }
     },
     "74da795ff14845e7b524c1f9381a9a20": {
      "model_module": "@jupyter-widgets/controls",
      "model_module_version": "2.0.0",
      "model_name": "ProgressStyleModel",
      "state": {
       "_model_module": "@jupyter-widgets/controls",
       "_model_module_version": "2.0.0",
       "_model_name": "ProgressStyleModel",
       "_view_count": null,
       "_view_module": "@jupyter-widgets/base",
       "_view_module_version": "2.0.0",
       "_view_name": "StyleView",
       "bar_color": null,
       "description_width": ""
      }
     },
     "75c364d409c044fe9e223a2245eac327": {
      "model_module": "@jupyter-widgets/controls",
      "model_module_version": "2.0.0",
      "model_name": "HBoxModel",
      "state": {
       "_dom_classes": [],
       "_model_module": "@jupyter-widgets/controls",
       "_model_module_version": "2.0.0",
       "_model_name": "HBoxModel",
       "_view_count": null,
       "_view_module": "@jupyter-widgets/controls",
       "_view_module_version": "2.0.0",
       "_view_name": "HBoxView",
       "box_style": "",
       "children": [
        "IPY_MODEL_0afb7981d40f4b81ab43aa49a7f9230c",
        "IPY_MODEL_bcac95a91a0b42148d7fa9f5e3e89a5a",
        "IPY_MODEL_7257b8e323a14445ba06c2b356e2f204"
       ],
       "layout": "IPY_MODEL_010e08aab76a428cb171dd0db1a096e8",
       "tabbable": null,
       "tooltip": null
      }
     },
     "783b46ac0545431695bd00223617ed09": {
      "model_module": "@jupyter-widgets/controls",
      "model_module_version": "2.0.0",
      "model_name": "ProgressStyleModel",
      "state": {
       "_model_module": "@jupyter-widgets/controls",
       "_model_module_version": "2.0.0",
       "_model_name": "ProgressStyleModel",
       "_view_count": null,
       "_view_module": "@jupyter-widgets/base",
       "_view_module_version": "2.0.0",
       "_view_name": "StyleView",
       "bar_color": null,
       "description_width": ""
      }
     },
     "78d0905149714708aa5c29efda246b71": {
      "model_module": "@jupyter-widgets/base",
      "model_module_version": "2.0.0",
      "model_name": "LayoutModel",
      "state": {
       "_model_module": "@jupyter-widgets/base",
       "_model_module_version": "2.0.0",
       "_model_name": "LayoutModel",
       "_view_count": null,
       "_view_module": "@jupyter-widgets/base",
       "_view_module_version": "2.0.0",
       "_view_name": "LayoutView",
       "align_content": null,
       "align_items": null,
       "align_self": null,
       "border_bottom": null,
       "border_left": null,
       "border_right": null,
       "border_top": null,
       "bottom": null,
       "display": null,
       "flex": null,
       "flex_flow": null,
       "grid_area": null,
       "grid_auto_columns": null,
       "grid_auto_flow": null,
       "grid_auto_rows": null,
       "grid_column": null,
       "grid_gap": null,
       "grid_row": null,
       "grid_template_areas": null,
       "grid_template_columns": null,
       "grid_template_rows": null,
       "height": null,
       "justify_content": null,
       "justify_items": null,
       "left": null,
       "margin": null,
       "max_height": null,
       "max_width": null,
       "min_height": null,
       "min_width": null,
       "object_fit": null,
       "object_position": null,
       "order": null,
       "overflow": null,
       "padding": null,
       "right": null,
       "top": null,
       "visibility": null,
       "width": null
      }
     },
     "7b1262fe4ed64eb48b1c63e98576f018": {
      "model_module": "@jupyter-widgets/controls",
      "model_module_version": "2.0.0",
      "model_name": "FloatProgressModel",
      "state": {
       "_dom_classes": [],
       "_model_module": "@jupyter-widgets/controls",
       "_model_module_version": "2.0.0",
       "_model_name": "FloatProgressModel",
       "_view_count": null,
       "_view_module": "@jupyter-widgets/controls",
       "_view_module_version": "2.0.0",
       "_view_name": "ProgressView",
       "bar_style": "success",
       "description": "",
       "description_allow_html": false,
       "layout": "IPY_MODEL_128241653c354611a2f0e3c11c085fcd",
       "max": 466,
       "min": 0,
       "orientation": "horizontal",
       "style": "IPY_MODEL_2abf3b34c6c443d4af2edb2608f7e78a",
       "tabbable": null,
       "tooltip": null,
       "value": 466
      }
     },
     "7ca7ce5b5ec04f4db20ed198137718a1": {
      "model_module": "@jupyter-widgets/controls",
      "model_module_version": "2.0.0",
      "model_name": "HTMLModel",
      "state": {
       "_dom_classes": [],
       "_model_module": "@jupyter-widgets/controls",
       "_model_module_version": "2.0.0",
       "_model_name": "HTMLModel",
       "_view_count": null,
       "_view_module": "@jupyter-widgets/controls",
       "_view_module_version": "2.0.0",
       "_view_name": "HTMLView",
       "description": "",
       "description_allow_html": false,
       "layout": "IPY_MODEL_8f9bccdaf3f14e009c8e42afdaabd3e8",
       "placeholder": "​",
       "style": "IPY_MODEL_7e41f24f22f144f8a75be3789f5fbc06",
       "tabbable": null,
       "tooltip": null,
       "value": " 542M/542M [00:03&lt;00:00, 163MB/s]"
      }
     },
     "7e41f24f22f144f8a75be3789f5fbc06": {
      "model_module": "@jupyter-widgets/controls",
      "model_module_version": "2.0.0",
      "model_name": "HTMLStyleModel",
      "state": {
       "_model_module": "@jupyter-widgets/controls",
       "_model_module_version": "2.0.0",
       "_model_name": "HTMLStyleModel",
       "_view_count": null,
       "_view_module": "@jupyter-widgets/base",
       "_view_module_version": "2.0.0",
       "_view_name": "StyleView",
       "background": null,
       "description_width": "",
       "font_size": null,
       "text_color": null
      }
     },
     "7fbdf0306b6c4a508d73ebbd62317d7b": {
      "model_module": "@jupyter-widgets/controls",
      "model_module_version": "2.0.0",
      "model_name": "HTMLStyleModel",
      "state": {
       "_model_module": "@jupyter-widgets/controls",
       "_model_module_version": "2.0.0",
       "_model_name": "HTMLStyleModel",
       "_view_count": null,
       "_view_module": "@jupyter-widgets/base",
       "_view_module_version": "2.0.0",
       "_view_name": "StyleView",
       "background": null,
       "description_width": "",
       "font_size": null,
       "text_color": null
      }
     },
     "81f2f272d5e24b709488e15699b5b9cd": {
      "model_module": "@jupyter-widgets/controls",
      "model_module_version": "2.0.0",
      "model_name": "FloatProgressModel",
      "state": {
       "_dom_classes": [],
       "_model_module": "@jupyter-widgets/controls",
       "_model_module_version": "2.0.0",
       "_model_name": "FloatProgressModel",
       "_view_count": null,
       "_view_module": "@jupyter-widgets/controls",
       "_view_module_version": "2.0.0",
       "_view_name": "ProgressView",
       "bar_style": "success",
       "description": "",
       "description_allow_html": false,
       "layout": "IPY_MODEL_6fb348829f2d47d39872cfa659d05aa9",
       "max": 49,
       "min": 0,
       "orientation": "horizontal",
       "style": "IPY_MODEL_7187d92d789c4da19fe12628d4c82e3f",
       "tabbable": null,
       "tooltip": null,
       "value": 49
      }
     },
     "895d57c1d80d4f7a973d75be2361a26f": {
      "model_module": "@jupyter-widgets/controls",
      "model_module_version": "2.0.0",
      "model_name": "HTMLStyleModel",
      "state": {
       "_model_module": "@jupyter-widgets/controls",
       "_model_module_version": "2.0.0",
       "_model_name": "HTMLStyleModel",
       "_view_count": null,
       "_view_module": "@jupyter-widgets/base",
       "_view_module_version": "2.0.0",
       "_view_name": "StyleView",
       "background": null,
       "description_width": "",
       "font_size": null,
       "text_color": null
      }
     },
     "8f9bccdaf3f14e009c8e42afdaabd3e8": {
      "model_module": "@jupyter-widgets/base",
      "model_module_version": "2.0.0",
      "model_name": "LayoutModel",
      "state": {
       "_model_module": "@jupyter-widgets/base",
       "_model_module_version": "2.0.0",
       "_model_name": "LayoutModel",
       "_view_count": null,
       "_view_module": "@jupyter-widgets/base",
       "_view_module_version": "2.0.0",
       "_view_name": "LayoutView",
       "align_content": null,
       "align_items": null,
       "align_self": null,
       "border_bottom": null,
       "border_left": null,
       "border_right": null,
       "border_top": null,
       "bottom": null,
       "display": null,
       "flex": null,
       "flex_flow": null,
       "grid_area": null,
       "grid_auto_columns": null,
       "grid_auto_flow": null,
       "grid_auto_rows": null,
       "grid_column": null,
       "grid_gap": null,
       "grid_row": null,
       "grid_template_areas": null,
       "grid_template_columns": null,
       "grid_template_rows": null,
       "height": null,
       "justify_content": null,
       "justify_items": null,
       "left": null,
       "margin": null,
       "max_height": null,
       "max_width": null,
       "min_height": null,
       "min_width": null,
       "object_fit": null,
       "object_position": null,
       "order": null,
       "overflow": null,
       "padding": null,
       "right": null,
       "top": null,
       "visibility": null,
       "width": null
      }
     },
     "90360866d8d0485193c149c771162e76": {
      "model_module": "@jupyter-widgets/base",
      "model_module_version": "2.0.0",
      "model_name": "LayoutModel",
      "state": {
       "_model_module": "@jupyter-widgets/base",
       "_model_module_version": "2.0.0",
       "_model_name": "LayoutModel",
       "_view_count": null,
       "_view_module": "@jupyter-widgets/base",
       "_view_module_version": "2.0.0",
       "_view_name": "LayoutView",
       "align_content": null,
       "align_items": null,
       "align_self": null,
       "border_bottom": null,
       "border_left": null,
       "border_right": null,
       "border_top": null,
       "bottom": null,
       "display": null,
       "flex": null,
       "flex_flow": null,
       "grid_area": null,
       "grid_auto_columns": null,
       "grid_auto_flow": null,
       "grid_auto_rows": null,
       "grid_column": null,
       "grid_gap": null,
       "grid_row": null,
       "grid_template_areas": null,
       "grid_template_columns": null,
       "grid_template_rows": null,
       "height": null,
       "justify_content": null,
       "justify_items": null,
       "left": null,
       "margin": null,
       "max_height": null,
       "max_width": null,
       "min_height": null,
       "min_width": null,
       "object_fit": null,
       "object_position": null,
       "order": null,
       "overflow": null,
       "padding": null,
       "right": null,
       "top": null,
       "visibility": null,
       "width": null
      }
     },
     "92d70b5fa70d43ceb5b2c7ec399b466d": {
      "model_module": "@jupyter-widgets/controls",
      "model_module_version": "2.0.0",
      "model_name": "HTMLModel",
      "state": {
       "_dom_classes": [],
       "_model_module": "@jupyter-widgets/controls",
       "_model_module_version": "2.0.0",
       "_model_name": "HTMLModel",
       "_view_count": null,
       "_view_module": "@jupyter-widgets/controls",
       "_view_module_version": "2.0.0",
       "_view_name": "HTMLView",
       "description": "",
       "description_allow_html": false,
       "layout": "IPY_MODEL_9ac6371cc8414179952a7c8a7d9d7ea4",
       "placeholder": "​",
       "style": "IPY_MODEL_4d1e3ff78d1e418a9c92a261e4ba5198",
       "tabbable": null,
       "tooltip": null,
       "value": " 49.0/49.0 [00:00&lt;00:00, 4.79kB/s]"
      }
     },
     "93e9708c9ab44640948d664bc671b78e": {
      "model_module": "@jupyter-widgets/controls",
      "model_module_version": "2.0.0",
      "model_name": "HBoxModel",
      "state": {
       "_dom_classes": [],
       "_model_module": "@jupyter-widgets/controls",
       "_model_module_version": "2.0.0",
       "_model_name": "HBoxModel",
       "_view_count": null,
       "_view_module": "@jupyter-widgets/controls",
       "_view_module_version": "2.0.0",
       "_view_name": "HBoxView",
       "box_style": "",
       "children": [
        "IPY_MODEL_14bde2f5ae98416d927536407e0fc97b",
        "IPY_MODEL_4960d626e07940488f35c7945285d200",
        "IPY_MODEL_41d9a97aab8041748c240bef3441040e"
       ],
       "layout": "IPY_MODEL_4a04d0681b174072875e83df426945a6",
       "tabbable": null,
       "tooltip": null
      }
     },
     "97a1c8eab2104e329eeb5000ccb3f9f0": {
      "model_module": "@jupyter-widgets/base",
      "model_module_version": "2.0.0",
      "model_name": "LayoutModel",
      "state": {
       "_model_module": "@jupyter-widgets/base",
       "_model_module_version": "2.0.0",
       "_model_name": "LayoutModel",
       "_view_count": null,
       "_view_module": "@jupyter-widgets/base",
       "_view_module_version": "2.0.0",
       "_view_name": "LayoutView",
       "align_content": null,
       "align_items": null,
       "align_self": null,
       "border_bottom": null,
       "border_left": null,
       "border_right": null,
       "border_top": null,
       "bottom": null,
       "display": null,
       "flex": null,
       "flex_flow": null,
       "grid_area": null,
       "grid_auto_columns": null,
       "grid_auto_flow": null,
       "grid_auto_rows": null,
       "grid_column": null,
       "grid_gap": null,
       "grid_row": null,
       "grid_template_areas": null,
       "grid_template_columns": null,
       "grid_template_rows": null,
       "height": null,
       "justify_content": null,
       "justify_items": null,
       "left": null,
       "margin": null,
       "max_height": null,
       "max_width": null,
       "min_height": null,
       "min_width": null,
       "object_fit": null,
       "object_position": null,
       "order": null,
       "overflow": null,
       "padding": null,
       "right": null,
       "top": null,
       "visibility": null,
       "width": null
      }
     },
     "9ac6371cc8414179952a7c8a7d9d7ea4": {
      "model_module": "@jupyter-widgets/base",
      "model_module_version": "2.0.0",
      "model_name": "LayoutModel",
      "state": {
       "_model_module": "@jupyter-widgets/base",
       "_model_module_version": "2.0.0",
       "_model_name": "LayoutModel",
       "_view_count": null,
       "_view_module": "@jupyter-widgets/base",
       "_view_module_version": "2.0.0",
       "_view_name": "LayoutView",
       "align_content": null,
       "align_items": null,
       "align_self": null,
       "border_bottom": null,
       "border_left": null,
       "border_right": null,
       "border_top": null,
       "bottom": null,
       "display": null,
       "flex": null,
       "flex_flow": null,
       "grid_area": null,
       "grid_auto_columns": null,
       "grid_auto_flow": null,
       "grid_auto_rows": null,
       "grid_column": null,
       "grid_gap": null,
       "grid_row": null,
       "grid_template_areas": null,
       "grid_template_columns": null,
       "grid_template_rows": null,
       "height": null,
       "justify_content": null,
       "justify_items": null,
       "left": null,
       "margin": null,
       "max_height": null,
       "max_width": null,
       "min_height": null,
       "min_width": null,
       "object_fit": null,
       "object_position": null,
       "order": null,
       "overflow": null,
       "padding": null,
       "right": null,
       "top": null,
       "visibility": null,
       "width": null
      }
     },
     "b27242b478d14945a74359c573bbfb4b": {
      "model_module": "@jupyter-widgets/controls",
      "model_module_version": "2.0.0",
      "model_name": "HBoxModel",
      "state": {
       "_dom_classes": [],
       "_model_module": "@jupyter-widgets/controls",
       "_model_module_version": "2.0.0",
       "_model_name": "HBoxModel",
       "_view_count": null,
       "_view_module": "@jupyter-widgets/controls",
       "_view_module_version": "2.0.0",
       "_view_name": "HBoxView",
       "box_style": "",
       "children": [
        "IPY_MODEL_f43a9514a41148a59ae3c28a1dcce8c2",
        "IPY_MODEL_684d622dbdcc4c289190c947c37cb17a",
        "IPY_MODEL_275494fb53054c42b9071e3b30d75307"
       ],
       "layout": "IPY_MODEL_bdeafdd028f24652b3751c3c0f4699ec",
       "tabbable": null,
       "tooltip": null
      }
     },
     "b2c1bb73b48248a8ba82e4facd457191": {
      "model_module": "@jupyter-widgets/controls",
      "model_module_version": "2.0.0",
      "model_name": "HTMLStyleModel",
      "state": {
       "_model_module": "@jupyter-widgets/controls",
       "_model_module_version": "2.0.0",
       "_model_name": "HTMLStyleModel",
       "_view_count": null,
       "_view_module": "@jupyter-widgets/base",
       "_view_module_version": "2.0.0",
       "_view_name": "StyleView",
       "background": null,
       "description_width": "",
       "font_size": null,
       "text_color": null
      }
     },
     "bb7ee7869df74cb79ebcdd674226325f": {
      "model_module": "@jupyter-widgets/base",
      "model_module_version": "2.0.0",
      "model_name": "LayoutModel",
      "state": {
       "_model_module": "@jupyter-widgets/base",
       "_model_module_version": "2.0.0",
       "_model_name": "LayoutModel",
       "_view_count": null,
       "_view_module": "@jupyter-widgets/base",
       "_view_module_version": "2.0.0",
       "_view_name": "LayoutView",
       "align_content": null,
       "align_items": null,
       "align_self": null,
       "border_bottom": null,
       "border_left": null,
       "border_right": null,
       "border_top": null,
       "bottom": null,
       "display": null,
       "flex": null,
       "flex_flow": null,
       "grid_area": null,
       "grid_auto_columns": null,
       "grid_auto_flow": null,
       "grid_auto_rows": null,
       "grid_column": null,
       "grid_gap": null,
       "grid_row": null,
       "grid_template_areas": null,
       "grid_template_columns": null,
       "grid_template_rows": null,
       "height": null,
       "justify_content": null,
       "justify_items": null,
       "left": null,
       "margin": null,
       "max_height": null,
       "max_width": null,
       "min_height": null,
       "min_width": null,
       "object_fit": null,
       "object_position": null,
       "order": null,
       "overflow": null,
       "padding": null,
       "right": null,
       "top": null,
       "visibility": null,
       "width": null
      }
     },
     "bcac95a91a0b42148d7fa9f5e3e89a5a": {
      "model_module": "@jupyter-widgets/controls",
      "model_module_version": "2.0.0",
      "model_name": "FloatProgressModel",
      "state": {
       "_dom_classes": [],
       "_model_module": "@jupyter-widgets/controls",
       "_model_module_version": "2.0.0",
       "_model_name": "FloatProgressModel",
       "_view_count": null,
       "_view_module": "@jupyter-widgets/controls",
       "_view_module_version": "2.0.0",
       "_view_name": "ProgressView",
       "bar_style": "success",
       "description": "",
       "description_allow_html": false,
       "layout": "IPY_MODEL_67335ecd876e4836a01984c23cde75b3",
       "max": 995526,
       "min": 0,
       "orientation": "horizontal",
       "style": "IPY_MODEL_df7ad44c18824ea983a230bbe18f7b7d",
       "tabbable": null,
       "tooltip": null,
       "value": 995526
      }
     },
     "bdeafdd028f24652b3751c3c0f4699ec": {
      "model_module": "@jupyter-widgets/base",
      "model_module_version": "2.0.0",
      "model_name": "LayoutModel",
      "state": {
       "_model_module": "@jupyter-widgets/base",
       "_model_module_version": "2.0.0",
       "_model_name": "LayoutModel",
       "_view_count": null,
       "_view_module": "@jupyter-widgets/base",
       "_view_module_version": "2.0.0",
       "_view_name": "LayoutView",
       "align_content": null,
       "align_items": null,
       "align_self": null,
       "border_bottom": null,
       "border_left": null,
       "border_right": null,
       "border_top": null,
       "bottom": null,
       "display": null,
       "flex": null,
       "flex_flow": null,
       "grid_area": null,
       "grid_auto_columns": null,
       "grid_auto_flow": null,
       "grid_auto_rows": null,
       "grid_column": null,
       "grid_gap": null,
       "grid_row": null,
       "grid_template_areas": null,
       "grid_template_columns": null,
       "grid_template_rows": null,
       "height": null,
       "justify_content": null,
       "justify_items": null,
       "left": null,
       "margin": null,
       "max_height": null,
       "max_width": null,
       "min_height": null,
       "min_width": null,
       "object_fit": null,
       "object_position": null,
       "order": null,
       "overflow": null,
       "padding": null,
       "right": null,
       "top": null,
       "visibility": null,
       "width": null
      }
     },
     "bf6dee4ec2434a07aa78b94fea25a8f5": {
      "model_module": "@jupyter-widgets/controls",
      "model_module_version": "2.0.0",
      "model_name": "HTMLModel",
      "state": {
       "_dom_classes": [],
       "_model_module": "@jupyter-widgets/controls",
       "_model_module_version": "2.0.0",
       "_model_name": "HTMLModel",
       "_view_count": null,
       "_view_module": "@jupyter-widgets/controls",
       "_view_module_version": "2.0.0",
       "_view_name": "HTMLView",
       "description": "",
       "description_allow_html": false,
       "layout": "IPY_MODEL_301fb53064d04255bf2d43513876f18a",
       "placeholder": "​",
       "style": "IPY_MODEL_7fbdf0306b6c4a508d73ebbd62317d7b",
       "tabbable": null,
       "tooltip": null,
       "value": "config.json: 100%"
      }
     },
     "c2d3b24d54094cd9b247ffa238edf2bd": {
      "model_module": "@jupyter-widgets/base",
      "model_module_version": "2.0.0",
      "model_name": "LayoutModel",
      "state": {
       "_model_module": "@jupyter-widgets/base",
       "_model_module_version": "2.0.0",
       "_model_name": "LayoutModel",
       "_view_count": null,
       "_view_module": "@jupyter-widgets/base",
       "_view_module_version": "2.0.0",
       "_view_name": "LayoutView",
       "align_content": null,
       "align_items": null,
       "align_self": null,
       "border_bottom": null,
       "border_left": null,
       "border_right": null,
       "border_top": null,
       "bottom": null,
       "display": null,
       "flex": null,
       "flex_flow": null,
       "grid_area": null,
       "grid_auto_columns": null,
       "grid_auto_flow": null,
       "grid_auto_rows": null,
       "grid_column": null,
       "grid_gap": null,
       "grid_row": null,
       "grid_template_areas": null,
       "grid_template_columns": null,
       "grid_template_rows": null,
       "height": null,
       "justify_content": null,
       "justify_items": null,
       "left": null,
       "margin": null,
       "max_height": null,
       "max_width": null,
       "min_height": null,
       "min_width": null,
       "object_fit": null,
       "object_position": null,
       "order": null,
       "overflow": null,
       "padding": null,
       "right": null,
       "top": null,
       "visibility": null,
       "width": null
      }
     },
     "d08fff355e644cf9a5a63242737c0129": {
      "model_module": "@jupyter-widgets/controls",
      "model_module_version": "2.0.0",
      "model_name": "HTMLStyleModel",
      "state": {
       "_model_module": "@jupyter-widgets/controls",
       "_model_module_version": "2.0.0",
       "_model_name": "HTMLStyleModel",
       "_view_count": null,
       "_view_module": "@jupyter-widgets/base",
       "_view_module_version": "2.0.0",
       "_view_name": "StyleView",
       "background": null,
       "description_width": "",
       "font_size": null,
       "text_color": null
      }
     },
     "d492fd3a0980458aa0afc33fef8c4d3a": {
      "model_module": "@jupyter-widgets/controls",
      "model_module_version": "2.0.0",
      "model_name": "HTMLStyleModel",
      "state": {
       "_model_module": "@jupyter-widgets/controls",
       "_model_module_version": "2.0.0",
       "_model_name": "HTMLStyleModel",
       "_view_count": null,
       "_view_module": "@jupyter-widgets/base",
       "_view_module_version": "2.0.0",
       "_view_name": "StyleView",
       "background": null,
       "description_width": "",
       "font_size": null,
       "text_color": null
      }
     },
     "dd12108c151646f9a66f6c5b65024965": {
      "model_module": "@jupyter-widgets/controls",
      "model_module_version": "2.0.0",
      "model_name": "HTMLStyleModel",
      "state": {
       "_model_module": "@jupyter-widgets/controls",
       "_model_module_version": "2.0.0",
       "_model_name": "HTMLStyleModel",
       "_view_count": null,
       "_view_module": "@jupyter-widgets/base",
       "_view_module_version": "2.0.0",
       "_view_name": "StyleView",
       "background": null,
       "description_width": "",
       "font_size": null,
       "text_color": null
      }
     },
     "df7ad44c18824ea983a230bbe18f7b7d": {
      "model_module": "@jupyter-widgets/controls",
      "model_module_version": "2.0.0",
      "model_name": "ProgressStyleModel",
      "state": {
       "_model_module": "@jupyter-widgets/controls",
       "_model_module_version": "2.0.0",
       "_model_name": "ProgressStyleModel",
       "_view_count": null,
       "_view_module": "@jupyter-widgets/base",
       "_view_module_version": "2.0.0",
       "_view_name": "StyleView",
       "bar_color": null,
       "description_width": ""
      }
     },
     "ebae99c448474c00a076c6b9ea7b07a3": {
      "model_module": "@jupyter-widgets/controls",
      "model_module_version": "2.0.0",
      "model_name": "HTMLStyleModel",
      "state": {
       "_model_module": "@jupyter-widgets/controls",
       "_model_module_version": "2.0.0",
       "_model_name": "HTMLStyleModel",
       "_view_count": null,
       "_view_module": "@jupyter-widgets/base",
       "_view_module_version": "2.0.0",
       "_view_name": "StyleView",
       "background": null,
       "description_width": "",
       "font_size": null,
       "text_color": null
      }
     },
     "f33a9f767d514a61a48de5209f7d8e96": {
      "model_module": "@jupyter-widgets/base",
      "model_module_version": "2.0.0",
      "model_name": "LayoutModel",
      "state": {
       "_model_module": "@jupyter-widgets/base",
       "_model_module_version": "2.0.0",
       "_model_name": "LayoutModel",
       "_view_count": null,
       "_view_module": "@jupyter-widgets/base",
       "_view_module_version": "2.0.0",
       "_view_name": "LayoutView",
       "align_content": null,
       "align_items": null,
       "align_self": null,
       "border_bottom": null,
       "border_left": null,
       "border_right": null,
       "border_top": null,
       "bottom": null,
       "display": null,
       "flex": null,
       "flex_flow": null,
       "grid_area": null,
       "grid_auto_columns": null,
       "grid_auto_flow": null,
       "grid_auto_rows": null,
       "grid_column": null,
       "grid_gap": null,
       "grid_row": null,
       "grid_template_areas": null,
       "grid_template_columns": null,
       "grid_template_rows": null,
       "height": null,
       "justify_content": null,
       "justify_items": null,
       "left": null,
       "margin": null,
       "max_height": null,
       "max_width": null,
       "min_height": null,
       "min_width": null,
       "object_fit": null,
       "object_position": null,
       "order": null,
       "overflow": null,
       "padding": null,
       "right": null,
       "top": null,
       "visibility": null,
       "width": null
      }
     },
     "f43a9514a41148a59ae3c28a1dcce8c2": {
      "model_module": "@jupyter-widgets/controls",
      "model_module_version": "2.0.0",
      "model_name": "HTMLModel",
      "state": {
       "_dom_classes": [],
       "_model_module": "@jupyter-widgets/controls",
       "_model_module_version": "2.0.0",
       "_model_name": "HTMLModel",
       "_view_count": null,
       "_view_module": "@jupyter-widgets/controls",
       "_view_module_version": "2.0.0",
       "_view_name": "HTMLView",
       "description": "",
       "description_allow_html": false,
       "layout": "IPY_MODEL_68bca88fe35c46578352eb29eacf3a96",
       "placeholder": "​",
       "style": "IPY_MODEL_895d57c1d80d4f7a973d75be2361a26f",
       "tabbable": null,
       "tooltip": null,
       "value": "Map: 100%"
      }
     },
     "f69231c37b35420c8c5439a9ceef05be": {
      "model_module": "@jupyter-widgets/base",
      "model_module_version": "2.0.0",
      "model_name": "LayoutModel",
      "state": {
       "_model_module": "@jupyter-widgets/base",
       "_model_module_version": "2.0.0",
       "_model_name": "LayoutModel",
       "_view_count": null,
       "_view_module": "@jupyter-widgets/base",
       "_view_module_version": "2.0.0",
       "_view_name": "LayoutView",
       "align_content": null,
       "align_items": null,
       "align_self": null,
       "border_bottom": null,
       "border_left": null,
       "border_right": null,
       "border_top": null,
       "bottom": null,
       "display": null,
       "flex": null,
       "flex_flow": null,
       "grid_area": null,
       "grid_auto_columns": null,
       "grid_auto_flow": null,
       "grid_auto_rows": null,
       "grid_column": null,
       "grid_gap": null,
       "grid_row": null,
       "grid_template_areas": null,
       "grid_template_columns": null,
       "grid_template_rows": null,
       "height": null,
       "justify_content": null,
       "justify_items": null,
       "left": null,
       "margin": null,
       "max_height": null,
       "max_width": null,
       "min_height": null,
       "min_width": null,
       "object_fit": null,
       "object_position": null,
       "order": null,
       "overflow": null,
       "padding": null,
       "right": null,
       "top": null,
       "visibility": null,
       "width": null
      }
     },
     "fd47f8f4bc8547eb8732cfb4dc54b7bb": {
      "model_module": "@jupyter-widgets/controls",
      "model_module_version": "2.0.0",
      "model_name": "HBoxModel",
      "state": {
       "_dom_classes": [],
       "_model_module": "@jupyter-widgets/controls",
       "_model_module_version": "2.0.0",
       "_model_name": "HBoxModel",
       "_view_count": null,
       "_view_module": "@jupyter-widgets/controls",
       "_view_module_version": "2.0.0",
       "_view_name": "HBoxView",
       "box_style": "",
       "children": [
        "IPY_MODEL_05116139eba2455b94ce17da3a010779",
        "IPY_MODEL_81f2f272d5e24b709488e15699b5b9cd",
        "IPY_MODEL_92d70b5fa70d43ceb5b2c7ec399b466d"
       ],
       "layout": "IPY_MODEL_c2d3b24d54094cd9b247ffa238edf2bd",
       "tabbable": null,
       "tooltip": null
      }
     }
    },
    "version_major": 2,
    "version_minor": 0
   }
  }
 },
 "nbformat": 4,
 "nbformat_minor": 5
}
